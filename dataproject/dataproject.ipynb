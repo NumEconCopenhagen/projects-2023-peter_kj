{
 "cells": [
  {
   "attachments": {},
   "cell_type": "markdown",
   "metadata": {},
   "source": [
    "# How well does oil supply, aggregate demand and oil price predict Danish stock prices?"
   ]
  },
  {
   "cell_type": "markdown",
   "metadata": {},
   "source": [
    "Imports and set magics:"
   ]
  },
  {
   "cell_type": "code",
   "execution_count": 1,
   "metadata": {},
   "outputs": [],
   "source": [
    "\n",
    "\n",
    "import pandas as pd\n",
    "import numpy as np\n",
    "import matplotlib.pyplot as plt\n",
    "import ipywidgets as widgets\n",
    "from matplotlib_venn import venn2\n",
    "from pathlib import Path  \n",
    "import datetime as dt\n",
    "from pandas.tseries.offsets import MonthBegin\n",
    "import ipywidgets as widgets\n",
    "from IPython.display import display\n",
    "from ipywidgets import interact, Dropdown\n",
    "\n",
    "\n",
    "\n",
    "# autoreload modules when code is run\n",
    "%load_ext autoreload\n",
    "%autoreload 2\n",
    "\n",
    "# user written modules\n",
    "import dataproject\n",
    "from dataproject import lin_reg\n"
   ]
  },
  {
   "attachments": {},
   "cell_type": "markdown",
   "metadata": {},
   "source": [
    "### Data description"
   ]
  },
  {
   "attachments": {},
   "cell_type": "markdown",
   "metadata": {},
   "source": [
    "In this project I will work with 5 different data sets imported manually from different sources. The data sets are:\n",
    "1. US_CPI downloaded from the U.S. Bureau of Labor Statistics\n",
    "2. The global production in world crude oil, initially downloaded through an API, but uploaded as a .csv for this project. The data is from The U.S. Energy Information Administration.\n",
    "3. The Baltic Dry Exchange index, downloaded from Investing.com.\n",
    "4. The price of crude oil, downloaded from The U.S. Energy Information Administration.\n",
    "5. The OMXC20 Index downloaded from Investing.com."
   ]
  },
  {
   "attachments": {},
   "cell_type": "markdown",
   "metadata": {},
   "source": [
    "\n",
    "The data that I work with in this project, is the same data that I am working with for my masters project.\n",
    "The US CPI is the seasonally unadjusted US city average CPI with base years 1982-1984. The global production in crude oil is the total production in crude oil for all oil producing countries in the world. The Baltic Dry Exchange Index is an index describing the freight rates of over 20 major shipping routes in the world - this will be used as a proxy for aggregate demand, as higher demand worldwide leads to higher shipping rates. The price of crude oil is the US refiner's acquisition cost for import of crude oil. The OMXC20 index is a stock index covering the 20 most traded stocks on the Danish stock market. All data is in monthly observations."
   ]
  },
  {
   "attachments": {},
   "cell_type": "markdown",
   "metadata": {},
   "source": [
    "\n",
    "### Data import\n",
    "I have supplied the 5 different data sets as .csv files. In the data import section I will load them, and illustrate the raw structure in pandas dataframes.\n",
    "\n"
   ]
  },
  {
   "cell_type": "code",
   "execution_count": 2,
   "metadata": {},
   "outputs": [
    {
     "name": "stdout",
     "output_type": "stream",
     "text": [
      "Raw structure of CPI:\n"
     ]
    },
    {
     "data": {
      "text/html": [
       "<div>\n",
       "<style scoped>\n",
       "    .dataframe tbody tr th:only-of-type {\n",
       "        vertical-align: middle;\n",
       "    }\n",
       "\n",
       "    .dataframe tbody tr th {\n",
       "        vertical-align: top;\n",
       "    }\n",
       "\n",
       "    .dataframe thead th {\n",
       "        text-align: right;\n",
       "    }\n",
       "</style>\n",
       "<table border=\"1\" class=\"dataframe\">\n",
       "  <thead>\n",
       "    <tr style=\"text-align: right;\">\n",
       "      <th></th>\n",
       "      <th>Unnamed: 0</th>\n",
       "      <th>Year</th>\n",
       "      <th>Period</th>\n",
       "      <th>Label</th>\n",
       "      <th>Observation Value</th>\n",
       "      <th>1-Month Net Change</th>\n",
       "      <th>12-Month Net Change</th>\n",
       "      <th>1-Month % Change</th>\n",
       "      <th>12-Month % Change</th>\n",
       "    </tr>\n",
       "  </thead>\n",
       "  <tbody>\n",
       "    <tr>\n",
       "      <th>0</th>\n",
       "      <td>0</td>\n",
       "      <td>1970</td>\n",
       "      <td>M01</td>\n",
       "      <td>1970 Jan</td>\n",
       "      <td>37.8</td>\n",
       "      <td>NaN</td>\n",
       "      <td>NaN</td>\n",
       "      <td>0.3</td>\n",
       "      <td>6.2</td>\n",
       "    </tr>\n",
       "    <tr>\n",
       "      <th>1</th>\n",
       "      <td>1</td>\n",
       "      <td>1970</td>\n",
       "      <td>M02</td>\n",
       "      <td>1970 Feb</td>\n",
       "      <td>38.0</td>\n",
       "      <td>NaN</td>\n",
       "      <td>NaN</td>\n",
       "      <td>0.5</td>\n",
       "      <td>6.1</td>\n",
       "    </tr>\n",
       "    <tr>\n",
       "      <th>2</th>\n",
       "      <td>2</td>\n",
       "      <td>1970</td>\n",
       "      <td>M03</td>\n",
       "      <td>1970 Mar</td>\n",
       "      <td>38.2</td>\n",
       "      <td>NaN</td>\n",
       "      <td>NaN</td>\n",
       "      <td>0.5</td>\n",
       "      <td>5.8</td>\n",
       "    </tr>\n",
       "  </tbody>\n",
       "</table>\n",
       "</div>"
      ],
      "text/plain": [
       "   Unnamed: 0  Year Period     Label  Observation Value  1-Month Net Change  \\\n",
       "0           0  1970    M01  1970 Jan               37.8                 NaN   \n",
       "1           1  1970    M02  1970 Feb               38.0                 NaN   \n",
       "2           2  1970    M03  1970 Mar               38.2                 NaN   \n",
       "\n",
       "   12-Month Net Change  1-Month % Change  12-Month % Change  \n",
       "0                  NaN               0.3                6.2  \n",
       "1                  NaN               0.5                6.1  \n",
       "2                  NaN               0.5                5.8  "
      ]
     },
     "metadata": {},
     "output_type": "display_data"
    },
    {
     "name": "stdout",
     "output_type": "stream",
     "text": [
      "Raw structure of oil production:\n"
     ]
    },
    {
     "data": {
      "text/html": [
       "<div>\n",
       "<style scoped>\n",
       "    .dataframe tbody tr th:only-of-type {\n",
       "        vertical-align: middle;\n",
       "    }\n",
       "\n",
       "    .dataframe tbody tr th {\n",
       "        vertical-align: top;\n",
       "    }\n",
       "\n",
       "    .dataframe thead th {\n",
       "        text-align: right;\n",
       "    }\n",
       "</style>\n",
       "<table border=\"1\" class=\"dataframe\">\n",
       "  <thead>\n",
       "    <tr style=\"text-align: right;\">\n",
       "      <th></th>\n",
       "      <th>Unnamed: 0</th>\n",
       "      <th>Column1.period</th>\n",
       "      <th>Column1.productId</th>\n",
       "      <th>Column1.productName</th>\n",
       "      <th>Column1.activityId</th>\n",
       "      <th>Column1.activityName</th>\n",
       "      <th>Column1.countryRegionId</th>\n",
       "      <th>Column1.countryRegionName</th>\n",
       "      <th>Column1.countryRegionTypeId</th>\n",
       "      <th>Column1.countryRegionTypeName</th>\n",
       "      <th>Column1.unit</th>\n",
       "      <th>Column1.unitName</th>\n",
       "      <th>Column1.dataFlagId</th>\n",
       "      <th>Column1.dataFlagDescription</th>\n",
       "      <th>Column1.value</th>\n",
       "    </tr>\n",
       "  </thead>\n",
       "  <tbody>\n",
       "    <tr>\n",
       "      <th>0</th>\n",
       "      <td>0</td>\n",
       "      <td>2022-09</td>\n",
       "      <td>57</td>\n",
       "      <td>Crude oil including lease condensate</td>\n",
       "      <td>1</td>\n",
       "      <td>Production</td>\n",
       "      <td>WORL</td>\n",
       "      <td>World</td>\n",
       "      <td>r</td>\n",
       "      <td>Region</td>\n",
       "      <td>TBPD</td>\n",
       "      <td>thousand barrels per day</td>\n",
       "      <td>NaN</td>\n",
       "      <td>NaN</td>\n",
       "      <td>81654.365452</td>\n",
       "    </tr>\n",
       "    <tr>\n",
       "      <th>1</th>\n",
       "      <td>1</td>\n",
       "      <td>2022-08</td>\n",
       "      <td>57</td>\n",
       "      <td>Crude oil including lease condensate</td>\n",
       "      <td>1</td>\n",
       "      <td>Production</td>\n",
       "      <td>WORL</td>\n",
       "      <td>World</td>\n",
       "      <td>r</td>\n",
       "      <td>Region</td>\n",
       "      <td>TBPD</td>\n",
       "      <td>thousand barrels per day</td>\n",
       "      <td>NaN</td>\n",
       "      <td>NaN</td>\n",
       "      <td>81340.371683</td>\n",
       "    </tr>\n",
       "    <tr>\n",
       "      <th>2</th>\n",
       "      <td>2</td>\n",
       "      <td>2022-07</td>\n",
       "      <td>57</td>\n",
       "      <td>Crude oil including lease condensate</td>\n",
       "      <td>1</td>\n",
       "      <td>Production</td>\n",
       "      <td>WORL</td>\n",
       "      <td>World</td>\n",
       "      <td>r</td>\n",
       "      <td>Region</td>\n",
       "      <td>TBPD</td>\n",
       "      <td>thousand barrels per day</td>\n",
       "      <td>NaN</td>\n",
       "      <td>NaN</td>\n",
       "      <td>80311.163563</td>\n",
       "    </tr>\n",
       "  </tbody>\n",
       "</table>\n",
       "</div>"
      ],
      "text/plain": [
       "   Unnamed: 0 Column1.period  Column1.productId  \\\n",
       "0           0        2022-09                 57   \n",
       "1           1        2022-08                 57   \n",
       "2           2        2022-07                 57   \n",
       "\n",
       "                    Column1.productName  Column1.activityId  \\\n",
       "0  Crude oil including lease condensate                   1   \n",
       "1  Crude oil including lease condensate                   1   \n",
       "2  Crude oil including lease condensate                   1   \n",
       "\n",
       "  Column1.activityName Column1.countryRegionId Column1.countryRegionName  \\\n",
       "0           Production                    WORL                     World   \n",
       "1           Production                    WORL                     World   \n",
       "2           Production                    WORL                     World   \n",
       "\n",
       "  Column1.countryRegionTypeId Column1.countryRegionTypeName Column1.unit  \\\n",
       "0                           r                        Region         TBPD   \n",
       "1                           r                        Region         TBPD   \n",
       "2                           r                        Region         TBPD   \n",
       "\n",
       "           Column1.unitName  Column1.dataFlagId  Column1.dataFlagDescription  \\\n",
       "0  thousand barrels per day                 NaN                          NaN   \n",
       "1  thousand barrels per day                 NaN                          NaN   \n",
       "2  thousand barrels per day                 NaN                          NaN   \n",
       "\n",
       "   Column1.value  \n",
       "0   81654.365452  \n",
       "1   81340.371683  \n",
       "2   80311.163563  "
      ]
     },
     "metadata": {},
     "output_type": "display_data"
    },
    {
     "name": "stdout",
     "output_type": "stream",
     "text": [
      "Raw structure of Baltic Dry Index:\n"
     ]
    },
    {
     "data": {
      "text/html": [
       "<div>\n",
       "<style scoped>\n",
       "    .dataframe tbody tr th:only-of-type {\n",
       "        vertical-align: middle;\n",
       "    }\n",
       "\n",
       "    .dataframe tbody tr th {\n",
       "        vertical-align: top;\n",
       "    }\n",
       "\n",
       "    .dataframe thead th {\n",
       "        text-align: right;\n",
       "    }\n",
       "</style>\n",
       "<table border=\"1\" class=\"dataframe\">\n",
       "  <thead>\n",
       "    <tr style=\"text-align: right;\">\n",
       "      <th></th>\n",
       "      <th>Unnamed: 0</th>\n",
       "      <th>Date</th>\n",
       "      <th>Price</th>\n",
       "      <th>Open</th>\n",
       "      <th>High</th>\n",
       "      <th>Low</th>\n",
       "      <th>Vol.</th>\n",
       "      <th>Change %</th>\n",
       "    </tr>\n",
       "  </thead>\n",
       "  <tbody>\n",
       "    <tr>\n",
       "      <th>0</th>\n",
       "      <td>0</td>\n",
       "      <td>01/01/2023</td>\n",
       "      <td>721.00</td>\n",
       "      <td>1,250.00</td>\n",
       "      <td>1,250.00</td>\n",
       "      <td>1,250.00</td>\n",
       "      <td>NaN</td>\n",
       "      <td>-52.41%</td>\n",
       "    </tr>\n",
       "    <tr>\n",
       "      <th>1</th>\n",
       "      <td>1</td>\n",
       "      <td>12/01/2022</td>\n",
       "      <td>1,515.00</td>\n",
       "      <td>1,338.00</td>\n",
       "      <td>1,338.00</td>\n",
       "      <td>1,338.00</td>\n",
       "      <td>NaN</td>\n",
       "      <td>11.81%</td>\n",
       "    </tr>\n",
       "    <tr>\n",
       "      <th>2</th>\n",
       "      <td>2</td>\n",
       "      <td>11/01/2022</td>\n",
       "      <td>1,355.00</td>\n",
       "      <td>1,377.00</td>\n",
       "      <td>1,377.00</td>\n",
       "      <td>1,377.00</td>\n",
       "      <td>NaN</td>\n",
       "      <td>-7.38%</td>\n",
       "    </tr>\n",
       "  </tbody>\n",
       "</table>\n",
       "</div>"
      ],
      "text/plain": [
       "   Unnamed: 0        Date     Price      Open      High       Low  Vol.  \\\n",
       "0           0  01/01/2023    721.00  1,250.00  1,250.00  1,250.00   NaN   \n",
       "1           1  12/01/2022  1,515.00  1,338.00  1,338.00  1,338.00   NaN   \n",
       "2           2  11/01/2022  1,355.00  1,377.00  1,377.00  1,377.00   NaN   \n",
       "\n",
       "  Change %  \n",
       "0  -52.41%  \n",
       "1   11.81%  \n",
       "2   -7.38%  "
      ]
     },
     "metadata": {},
     "output_type": "display_data"
    },
    {
     "name": "stdout",
     "output_type": "stream",
     "text": [
      "Raw structure of oil price:\n"
     ]
    },
    {
     "data": {
      "text/html": [
       "<div>\n",
       "<style scoped>\n",
       "    .dataframe tbody tr th:only-of-type {\n",
       "        vertical-align: middle;\n",
       "    }\n",
       "\n",
       "    .dataframe tbody tr th {\n",
       "        vertical-align: top;\n",
       "    }\n",
       "\n",
       "    .dataframe thead th {\n",
       "        text-align: right;\n",
       "    }\n",
       "</style>\n",
       "<table border=\"1\" class=\"dataframe\">\n",
       "  <thead>\n",
       "    <tr style=\"text-align: right;\">\n",
       "      <th></th>\n",
       "      <th>Unnamed: 0</th>\n",
       "      <th>Date</th>\n",
       "      <th>U.S. Crude Oil Composite Acquisition Cost by Refiners (Dollars per Barrel)</th>\n",
       "      <th>U.S. Crude Oil Domestic Acquisition Cost by Refiners (Dollars per Barrel)</th>\n",
       "      <th>U.S. Crude Oil Imported Acquisition Cost by Refiners (Dollars per Barrel)</th>\n",
       "    </tr>\n",
       "  </thead>\n",
       "  <tbody>\n",
       "    <tr>\n",
       "      <th>0</th>\n",
       "      <td>0</td>\n",
       "      <td>1974-01-15</td>\n",
       "      <td>7.46</td>\n",
       "      <td>6.72</td>\n",
       "      <td>9.59</td>\n",
       "    </tr>\n",
       "    <tr>\n",
       "      <th>1</th>\n",
       "      <td>1</td>\n",
       "      <td>1974-02-15</td>\n",
       "      <td>8.57</td>\n",
       "      <td>7.08</td>\n",
       "      <td>12.45</td>\n",
       "    </tr>\n",
       "    <tr>\n",
       "      <th>2</th>\n",
       "      <td>2</td>\n",
       "      <td>1974-03-15</td>\n",
       "      <td>8.68</td>\n",
       "      <td>7.05</td>\n",
       "      <td>12.73</td>\n",
       "    </tr>\n",
       "  </tbody>\n",
       "</table>\n",
       "</div>"
      ],
      "text/plain": [
       "   Unnamed: 0        Date  \\\n",
       "0           0  1974-01-15   \n",
       "1           1  1974-02-15   \n",
       "2           2  1974-03-15   \n",
       "\n",
       "   U.S. Crude Oil Composite Acquisition Cost by Refiners (Dollars per Barrel)  \\\n",
       "0                                               7.46                            \n",
       "1                                               8.57                            \n",
       "2                                               8.68                            \n",
       "\n",
       "   U.S. Crude Oil Domestic Acquisition Cost by Refiners (Dollars per Barrel)  \\\n",
       "0                                               6.72                           \n",
       "1                                               7.08                           \n",
       "2                                               7.05                           \n",
       "\n",
       "   U.S. Crude Oil Imported Acquisition Cost by Refiners (Dollars per Barrel)  \n",
       "0                                               9.59                          \n",
       "1                                              12.45                          \n",
       "2                                              12.73                          "
      ]
     },
     "metadata": {},
     "output_type": "display_data"
    },
    {
     "name": "stdout",
     "output_type": "stream",
     "text": [
      "Raw structure of OMXC20 index:\n"
     ]
    },
    {
     "data": {
      "text/html": [
       "<div>\n",
       "<style scoped>\n",
       "    .dataframe tbody tr th:only-of-type {\n",
       "        vertical-align: middle;\n",
       "    }\n",
       "\n",
       "    .dataframe tbody tr th {\n",
       "        vertical-align: top;\n",
       "    }\n",
       "\n",
       "    .dataframe thead th {\n",
       "        text-align: right;\n",
       "    }\n",
       "</style>\n",
       "<table border=\"1\" class=\"dataframe\">\n",
       "  <thead>\n",
       "    <tr style=\"text-align: right;\">\n",
       "      <th></th>\n",
       "      <th>Date</th>\n",
       "      <th>Price</th>\n",
       "      <th>Open</th>\n",
       "      <th>High</th>\n",
       "      <th>Low</th>\n",
       "      <th>Vol.</th>\n",
       "      <th>Change %</th>\n",
       "    </tr>\n",
       "  </thead>\n",
       "  <tbody>\n",
       "    <tr>\n",
       "      <th>0</th>\n",
       "      <td>02/01/2023</td>\n",
       "      <td>1,911.74</td>\n",
       "      <td>1,847.91</td>\n",
       "      <td>1,928.59</td>\n",
       "      <td>1,826.14</td>\n",
       "      <td>14.35M</td>\n",
       "      <td>4.21%</td>\n",
       "    </tr>\n",
       "    <tr>\n",
       "      <th>1</th>\n",
       "      <td>01/01/2023</td>\n",
       "      <td>1,834.53</td>\n",
       "      <td>1,842.37</td>\n",
       "      <td>1,901.34</td>\n",
       "      <td>1,806.33</td>\n",
       "      <td>261.23M</td>\n",
       "      <td>-0.04%</td>\n",
       "    </tr>\n",
       "    <tr>\n",
       "      <th>2</th>\n",
       "      <td>12/01/2022</td>\n",
       "      <td>1,835.28</td>\n",
       "      <td>1,797.98</td>\n",
       "      <td>1,862.04</td>\n",
       "      <td>1,787.18</td>\n",
       "      <td>213.44M</td>\n",
       "      <td>2.83%</td>\n",
       "    </tr>\n",
       "  </tbody>\n",
       "</table>\n",
       "</div>"
      ],
      "text/plain": [
       "         Date     Price      Open      High       Low     Vol. Change %\n",
       "0  02/01/2023  1,911.74  1,847.91  1,928.59  1,826.14   14.35M    4.21%\n",
       "1  01/01/2023  1,834.53  1,842.37  1,901.34  1,806.33  261.23M   -0.04%\n",
       "2  12/01/2022  1,835.28  1,797.98  1,862.04  1,787.18  213.44M    2.83%"
      ]
     },
     "metadata": {},
     "output_type": "display_data"
    }
   ],
   "source": [
    "CPI = pd.read_csv(\"CPI.csv\")\n",
    "print('Raw structure of CPI:')\n",
    "display(CPI.head(3))\n",
    "\n",
    "oil_prod = pd.read_csv(\"crude_oil_prod.csv\")\n",
    "print('Raw structure of oil production:')\n",
    "display(oil_prod.head(3))\n",
    "\n",
    "BDI = pd.read_csv(\"BDI.csv\")\n",
    "print('Raw structure of Baltic Dry Index:')\n",
    "display(BDI.head(3))\n",
    "\n",
    "oil_price = pd.read_csv(\"crude_oil_price.csv\")\n",
    "print('Raw structure of oil price:')\n",
    "display(oil_price.head(3))\n",
    "\n",
    "C20 = pd.read_csv(\"OMX Copenhagen 20 Historical Data.csv\")\n",
    "print('Raw structure of OMXC20 index:')\n",
    "display(C20.head(3))"
   ]
  },
  {
   "attachments": {},
   "cell_type": "markdown",
   "metadata": {},
   "source": [
    "### Data cleaning\n",
    "Having discovered the raw structure of the 5 datasets, I will now clean the data. I will drop all the columns not needed, I will make sure that the date structure is the same for all variables. Furthermore, I will rename column names and remove comma-thousand seperators.\n",
    "\n"
   ]
  },
  {
   "cell_type": "code",
   "execution_count": 3,
   "metadata": {},
   "outputs": [
    {
     "name": "stdout",
     "output_type": "stream",
     "text": [
      "Clean CPI:\n"
     ]
    },
    {
     "data": {
      "text/html": [
       "<div>\n",
       "<style scoped>\n",
       "    .dataframe tbody tr th:only-of-type {\n",
       "        vertical-align: middle;\n",
       "    }\n",
       "\n",
       "    .dataframe tbody tr th {\n",
       "        vertical-align: top;\n",
       "    }\n",
       "\n",
       "    .dataframe thead th {\n",
       "        text-align: right;\n",
       "    }\n",
       "</style>\n",
       "<table border=\"1\" class=\"dataframe\">\n",
       "  <thead>\n",
       "    <tr style=\"text-align: right;\">\n",
       "      <th></th>\n",
       "      <th>Date</th>\n",
       "      <th>CPI</th>\n",
       "    </tr>\n",
       "  </thead>\n",
       "  <tbody>\n",
       "    <tr>\n",
       "      <th>0</th>\n",
       "      <td>1970-01-01</td>\n",
       "      <td>37.8</td>\n",
       "    </tr>\n",
       "    <tr>\n",
       "      <th>1</th>\n",
       "      <td>1970-02-01</td>\n",
       "      <td>38.0</td>\n",
       "    </tr>\n",
       "    <tr>\n",
       "      <th>2</th>\n",
       "      <td>1970-03-01</td>\n",
       "      <td>38.2</td>\n",
       "    </tr>\n",
       "  </tbody>\n",
       "</table>\n",
       "</div>"
      ],
      "text/plain": [
       "        Date   CPI\n",
       "0 1970-01-01  37.8\n",
       "1 1970-02-01  38.0\n",
       "2 1970-03-01  38.2"
      ]
     },
     "metadata": {},
     "output_type": "display_data"
    },
    {
     "name": "stdout",
     "output_type": "stream",
     "text": [
      "Clean oil production:\n"
     ]
    },
    {
     "data": {
      "text/html": [
       "<div>\n",
       "<style scoped>\n",
       "    .dataframe tbody tr th:only-of-type {\n",
       "        vertical-align: middle;\n",
       "    }\n",
       "\n",
       "    .dataframe tbody tr th {\n",
       "        vertical-align: top;\n",
       "    }\n",
       "\n",
       "    .dataframe thead th {\n",
       "        text-align: right;\n",
       "    }\n",
       "</style>\n",
       "<table border=\"1\" class=\"dataframe\">\n",
       "  <thead>\n",
       "    <tr style=\"text-align: right;\">\n",
       "      <th></th>\n",
       "      <th>Date</th>\n",
       "      <th>oil_prod</th>\n",
       "    </tr>\n",
       "  </thead>\n",
       "  <tbody>\n",
       "    <tr>\n",
       "      <th>0</th>\n",
       "      <td>1973-01-01</td>\n",
       "      <td>54389.0</td>\n",
       "    </tr>\n",
       "    <tr>\n",
       "      <th>1</th>\n",
       "      <td>1973-02-01</td>\n",
       "      <td>54930.0</td>\n",
       "    </tr>\n",
       "    <tr>\n",
       "      <th>2</th>\n",
       "      <td>1973-03-01</td>\n",
       "      <td>54995.0</td>\n",
       "    </tr>\n",
       "  </tbody>\n",
       "</table>\n",
       "</div>"
      ],
      "text/plain": [
       "        Date  oil_prod\n",
       "0 1973-01-01   54389.0\n",
       "1 1973-02-01   54930.0\n",
       "2 1973-03-01   54995.0"
      ]
     },
     "metadata": {},
     "output_type": "display_data"
    },
    {
     "name": "stdout",
     "output_type": "stream",
     "text": [
      "Clean Baltic Dry Index:\n"
     ]
    },
    {
     "data": {
      "text/html": [
       "<div>\n",
       "<style scoped>\n",
       "    .dataframe tbody tr th:only-of-type {\n",
       "        vertical-align: middle;\n",
       "    }\n",
       "\n",
       "    .dataframe tbody tr th {\n",
       "        vertical-align: top;\n",
       "    }\n",
       "\n",
       "    .dataframe thead th {\n",
       "        text-align: right;\n",
       "    }\n",
       "</style>\n",
       "<table border=\"1\" class=\"dataframe\">\n",
       "  <thead>\n",
       "    <tr style=\"text-align: right;\">\n",
       "      <th></th>\n",
       "      <th>Date</th>\n",
       "      <th>BDI_price</th>\n",
       "    </tr>\n",
       "  </thead>\n",
       "  <tbody>\n",
       "    <tr>\n",
       "      <th>0</th>\n",
       "      <td>1985-02-01</td>\n",
       "      <td>984.0</td>\n",
       "    </tr>\n",
       "    <tr>\n",
       "      <th>1</th>\n",
       "      <td>1985-03-01</td>\n",
       "      <td>1016.5</td>\n",
       "    </tr>\n",
       "    <tr>\n",
       "      <th>2</th>\n",
       "      <td>1985-04-01</td>\n",
       "      <td>1063.0</td>\n",
       "    </tr>\n",
       "  </tbody>\n",
       "</table>\n",
       "</div>"
      ],
      "text/plain": [
       "        Date  BDI_price\n",
       "0 1985-02-01      984.0\n",
       "1 1985-03-01     1016.5\n",
       "2 1985-04-01     1063.0"
      ]
     },
     "metadata": {},
     "output_type": "display_data"
    },
    {
     "name": "stdout",
     "output_type": "stream",
     "text": [
      "Clean oil price:\n"
     ]
    },
    {
     "data": {
      "text/html": [
       "<div>\n",
       "<style scoped>\n",
       "    .dataframe tbody tr th:only-of-type {\n",
       "        vertical-align: middle;\n",
       "    }\n",
       "\n",
       "    .dataframe tbody tr th {\n",
       "        vertical-align: top;\n",
       "    }\n",
       "\n",
       "    .dataframe thead th {\n",
       "        text-align: right;\n",
       "    }\n",
       "</style>\n",
       "<table border=\"1\" class=\"dataframe\">\n",
       "  <thead>\n",
       "    <tr style=\"text-align: right;\">\n",
       "      <th></th>\n",
       "      <th>Date</th>\n",
       "      <th>oil_price</th>\n",
       "    </tr>\n",
       "  </thead>\n",
       "  <tbody>\n",
       "    <tr>\n",
       "      <th>0</th>\n",
       "      <td>1974-01-01</td>\n",
       "      <td>9.59</td>\n",
       "    </tr>\n",
       "    <tr>\n",
       "      <th>1</th>\n",
       "      <td>1974-02-01</td>\n",
       "      <td>12.45</td>\n",
       "    </tr>\n",
       "    <tr>\n",
       "      <th>2</th>\n",
       "      <td>1974-03-01</td>\n",
       "      <td>12.73</td>\n",
       "    </tr>\n",
       "  </tbody>\n",
       "</table>\n",
       "</div>"
      ],
      "text/plain": [
       "        Date  oil_price\n",
       "0 1974-01-01       9.59\n",
       "1 1974-02-01      12.45\n",
       "2 1974-03-01      12.73"
      ]
     },
     "metadata": {},
     "output_type": "display_data"
    },
    {
     "name": "stdout",
     "output_type": "stream",
     "text": [
      "Clean OMXC20 index:\n"
     ]
    },
    {
     "data": {
      "text/html": [
       "<div>\n",
       "<style scoped>\n",
       "    .dataframe tbody tr th:only-of-type {\n",
       "        vertical-align: middle;\n",
       "    }\n",
       "\n",
       "    .dataframe tbody tr th {\n",
       "        vertical-align: top;\n",
       "    }\n",
       "\n",
       "    .dataframe thead th {\n",
       "        text-align: right;\n",
       "    }\n",
       "</style>\n",
       "<table border=\"1\" class=\"dataframe\">\n",
       "  <thead>\n",
       "    <tr style=\"text-align: right;\">\n",
       "      <th></th>\n",
       "      <th>Date</th>\n",
       "      <th>C20_price</th>\n",
       "    </tr>\n",
       "  </thead>\n",
       "  <tbody>\n",
       "    <tr>\n",
       "      <th>0</th>\n",
       "      <td>1990-01-01</td>\n",
       "      <td>106.51</td>\n",
       "    </tr>\n",
       "    <tr>\n",
       "      <th>1</th>\n",
       "      <td>1990-02-01</td>\n",
       "      <td>105.94</td>\n",
       "    </tr>\n",
       "    <tr>\n",
       "      <th>2</th>\n",
       "      <td>1990-03-01</td>\n",
       "      <td>111.34</td>\n",
       "    </tr>\n",
       "  </tbody>\n",
       "</table>\n",
       "</div>"
      ],
      "text/plain": [
       "        Date  C20_price\n",
       "0 1990-01-01     106.51\n",
       "1 1990-02-01     105.94\n",
       "2 1990-03-01     111.34"
      ]
     },
     "metadata": {},
     "output_type": "display_data"
    }
   ],
   "source": [
    "#CPI Cleaning:\n",
    "CPI_clean = CPI.copy()\n",
    "CPI_clean[\"Label\"]=pd.to_datetime(CPI_clean[\"Label\"])\n",
    "CPI_clean.drop(CPI_clean.iloc[:,[0,1,2,5,6,7,8]], axis=1, inplace=True)\n",
    "CPI_clean.rename(columns = {\"Label\":\"Date\", \"Observation Value\":\"CPI\"}, inplace=True)\n",
    "\n",
    "#Oil production cleaning:\n",
    "oil_prod_clean = oil_prod.copy()\n",
    "oil_prod_clean.drop(oil_prod_clean.iloc[:,[0,2,3,4,5,6,7,8,9,10,11,12,13]], axis=1, inplace=True)\n",
    "oil_prod_clean['Column1.period'] = pd.to_datetime(oil_prod_clean['Column1.period'])\n",
    "oil_prod_clean.rename(columns= {\"Column1.period\":\"Date\", \"Column1.value\" :\"oil_prod\"}, inplace=True)\n",
    "oil_prod_clean=oil_prod_clean.loc[::-1].reset_index(drop=True)\n",
    "\n",
    "#Baltic Dry Index cleaning:\n",
    "BDI_clean = BDI.copy()\n",
    "BDI_clean.drop(BDI_clean.iloc[:,[0,3,4,5,6,7]], axis=1, inplace=True)\n",
    "BDI_clean['Price']=BDI_clean['Price'].str.replace(',','').astype(float)\n",
    "BDI_clean.rename(columns= {\"Price\" : \"BDI_price\"}, inplace=True)\n",
    "BDI_clean['Date']=pd.to_datetime(BDI_clean['Date'])\n",
    "BDI_clean=BDI_clean.loc[::-1].reset_index(drop=True)\n",
    "\n",
    "#Oil price cleaning:\n",
    "oil_price_clean = oil_price.copy()\n",
    "oil_price_clean['Date'] = pd.to_datetime(oil_price_clean['Date']) - MonthBegin(1)\n",
    "oil_price_clean.drop(oil_price_clean.iloc[:,[0,2,3]], axis=1, inplace=True)\n",
    "oil_price_clean.rename(columns= {\"U.S. Crude Oil Imported Acquisition Cost by Refiners (Dollars per Barrel)\" : \"oil_price\"}, inplace=True)\n",
    "\n",
    "#C20 index cleaning:\n",
    "C20_clean = C20.copy()\n",
    "C20_clean.drop(C20_clean.iloc[:,2:7], axis=1, inplace=True)\n",
    "C20_clean['Price']=C20_clean['Price'].str.replace(',','').astype(float)\n",
    "C20_clean.rename(columns= {\"Price\" : \"C20_price\"}, inplace=True)\n",
    "C20_clean['Date']=pd.to_datetime(C20_clean['Date'])\n",
    "C20_clean=C20_clean.loc[::-1].reset_index(drop=True)\n",
    "\n",
    "\n",
    "#Illustrating cleaned data sets:\n",
    "print('Clean CPI:')\n",
    "display(CPI_clean.head(3))\n",
    "\n",
    "print('Clean oil production:')\n",
    "display(oil_prod_clean.head(3))\n",
    "\n",
    "print('Clean Baltic Dry Index:')\n",
    "display(BDI_clean.head(3))\n",
    "\n",
    "print('Clean oil price:')\n",
    "display(oil_price_clean.head(3))\n",
    "\n",
    "print('Clean OMXC20 index:')\n",
    "display(C20_clean.head(3))\n"
   ]
  },
  {
   "attachments": {},
   "cell_type": "markdown",
   "metadata": {},
   "source": [
    "### Data exploration\n",
    "In this section I will show plots of the raw data for each of the 5 variables.\n"
   ]
  },
  {
   "cell_type": "code",
   "execution_count": 4,
   "metadata": {},
   "outputs": [
    {
     "name": "stdout",
     "output_type": "stream",
     "text": [
      "Plots of the raw variables:\n"
     ]
    },
    {
     "data": {
      "text/plain": [
       "Text(0.5, 1.0, 'C20 price')"
      ]
     },
     "execution_count": 4,
     "metadata": {},
     "output_type": "execute_result"
    },
    {
     "data": {
      "image/png": "[encoded data removed]",
      "text/plain": [
       "<Figure size 1080x504 with 6 Axes>"
      ]
     },
     "metadata": {
      "needs_background": "light"
     },
     "output_type": "display_data"
    }
   ],
   "source": [
    "print(\"Plots of the raw variables:\")\n",
    "fig_raw, axs = plt.subplots(2,3, figsize=(15,7))\n",
    "axs[0,0].plot(CPI_clean['Date'], CPI_clean['CPI'])\n",
    "axs[0, 0].set_title('CPI')\n",
    "axs[0,1].plot(oil_prod_clean['Date'], oil_prod_clean['oil_prod'])\n",
    "axs[0, 1].set_title('Oil production')\n",
    "axs[0,2].plot(BDI_clean['Date'], BDI_clean['BDI_price'])\n",
    "axs[0, 2].set_title('BDI price')\n",
    "axs[1,0].plot(oil_price_clean['Date'], oil_price_clean['oil_price'])\n",
    "axs[1, 0].set_title('Oil price')\n",
    "axs[1,1].plot(C20_clean['Date'], C20_clean['C20_price'])\n",
    "axs[1, 1].set_title('C20 price')"
   ]
  },
  {
   "attachments": {},
   "cell_type": "markdown",
   "metadata": {},
   "source": [
    "Looking at the plots, it is obvious that the date ranges are not the same. Furthermore, none of the variables seem stationary."
   ]
  },
  {
   "attachments": {},
   "cell_type": "markdown",
   "metadata": {},
   "source": [
    "### Data merging\n",
    "In this section I will merge the 5 datasets into 1 dataframe, and drop all NaN values, such that the date range is limited to dates where all of the 5 datasets have observations.\n",
    "I will do this by outer joining all of the datasets on the Date column, and then dropping missing observations. I will also supply descriptive stats."
   ]
  },
  {
   "cell_type": "code",
   "execution_count": 5,
   "metadata": {},
   "outputs": [
    {
     "name": "stdout",
     "output_type": "stream",
     "text": [
      "Merged data:\n"
     ]
    },
    {
     "data": {
      "text/html": [
       "<div>\n",
       "<style scoped>\n",
       "    .dataframe tbody tr th:only-of-type {\n",
       "        vertical-align: middle;\n",
       "    }\n",
       "\n",
       "    .dataframe tbody tr th {\n",
       "        vertical-align: top;\n",
       "    }\n",
       "\n",
       "    .dataframe thead th {\n",
       "        text-align: right;\n",
       "    }\n",
       "</style>\n",
       "<table border=\"1\" class=\"dataframe\">\n",
       "  <thead>\n",
       "    <tr style=\"text-align: right;\">\n",
       "      <th></th>\n",
       "      <th>Date</th>\n",
       "      <th>CPI</th>\n",
       "      <th>oil_prod</th>\n",
       "      <th>BDI_price</th>\n",
       "      <th>oil_price</th>\n",
       "      <th>C20_price</th>\n",
       "    </tr>\n",
       "  </thead>\n",
       "  <tbody>\n",
       "    <tr>\n",
       "      <th>240</th>\n",
       "      <td>1990-01-01</td>\n",
       "      <td>127.4</td>\n",
       "      <td>60921.388</td>\n",
       "      <td>1644.0</td>\n",
       "      <td>20.51</td>\n",
       "      <td>106.51</td>\n",
       "    </tr>\n",
       "    <tr>\n",
       "      <th>241</th>\n",
       "      <td>1990-02-01</td>\n",
       "      <td>128.0</td>\n",
       "      <td>61178.881</td>\n",
       "      <td>1604.0</td>\n",
       "      <td>19.78</td>\n",
       "      <td>105.94</td>\n",
       "    </tr>\n",
       "    <tr>\n",
       "      <th>242</th>\n",
       "      <td>1990-03-01</td>\n",
       "      <td>128.7</td>\n",
       "      <td>62082.423</td>\n",
       "      <td>1529.0</td>\n",
       "      <td>18.94</td>\n",
       "      <td>111.34</td>\n",
       "    </tr>\n",
       "  </tbody>\n",
       "</table>\n",
       "</div>"
      ],
      "text/plain": [
       "          Date    CPI   oil_prod  BDI_price  oil_price  C20_price\n",
       "240 1990-01-01  127.4  60921.388     1644.0      20.51     106.51\n",
       "241 1990-02-01  128.0  61178.881     1604.0      19.78     105.94\n",
       "242 1990-03-01  128.7  62082.423     1529.0      18.94     111.34"
      ]
     },
     "metadata": {},
     "output_type": "display_data"
    },
    {
     "name": "stdout",
     "output_type": "stream",
     "text": [
      "Descriptive stats:\n"
     ]
    },
    {
     "data": {
      "text/html": [
       "<div>\n",
       "<style scoped>\n",
       "    .dataframe tbody tr th:only-of-type {\n",
       "        vertical-align: middle;\n",
       "    }\n",
       "\n",
       "    .dataframe tbody tr th {\n",
       "        vertical-align: top;\n",
       "    }\n",
       "\n",
       "    .dataframe thead th {\n",
       "        text-align: right;\n",
       "    }\n",
       "</style>\n",
       "<table border=\"1\" class=\"dataframe\">\n",
       "  <thead>\n",
       "    <tr style=\"text-align: right;\">\n",
       "      <th></th>\n",
       "      <th>CPI</th>\n",
       "      <th>oil_prod</th>\n",
       "      <th>BDI_price</th>\n",
       "      <th>oil_price</th>\n",
       "      <th>C20_price</th>\n",
       "    </tr>\n",
       "  </thead>\n",
       "  <tbody>\n",
       "    <tr>\n",
       "      <th>count</th>\n",
       "      <td>393.00</td>\n",
       "      <td>393.00</td>\n",
       "      <td>393.00</td>\n",
       "      <td>393.00</td>\n",
       "      <td>393.00</td>\n",
       "    </tr>\n",
       "    <tr>\n",
       "      <th>mean</th>\n",
       "      <td>200.14</td>\n",
       "      <td>71598.91</td>\n",
       "      <td>1998.21</td>\n",
       "      <td>46.87</td>\n",
       "      <td>493.23</td>\n",
       "    </tr>\n",
       "    <tr>\n",
       "      <th>std</th>\n",
       "      <td>42.43</td>\n",
       "      <td>7227.93</td>\n",
       "      <td>1708.87</td>\n",
       "      <td>29.96</td>\n",
       "      <td>428.85</td>\n",
       "    </tr>\n",
       "    <tr>\n",
       "      <th>min</th>\n",
       "      <td>127.40</td>\n",
       "      <td>56965.63</td>\n",
       "      <td>317.00</td>\n",
       "      <td>9.39</td>\n",
       "      <td>71.72</td>\n",
       "    </tr>\n",
       "    <tr>\n",
       "      <th>25%</th>\n",
       "      <td>162.20</td>\n",
       "      <td>65949.50</td>\n",
       "      <td>1070.00</td>\n",
       "      <td>19.35</td>\n",
       "      <td>192.07</td>\n",
       "    </tr>\n",
       "    <tr>\n",
       "      <th>50%</th>\n",
       "      <td>201.50</td>\n",
       "      <td>73204.54</td>\n",
       "      <td>1438.00</td>\n",
       "      <td>39.89</td>\n",
       "      <td>335.03</td>\n",
       "    </tr>\n",
       "    <tr>\n",
       "      <th>75%</th>\n",
       "      <td>236.15</td>\n",
       "      <td>76974.86</td>\n",
       "      <td>2102.00</td>\n",
       "      <td>66.70</td>\n",
       "      <td>737.23</td>\n",
       "    </tr>\n",
       "    <tr>\n",
       "      <th>max</th>\n",
       "      <td>296.81</td>\n",
       "      <td>84585.02</td>\n",
       "      <td>11440.00</td>\n",
       "      <td>127.77</td>\n",
       "      <td>1863.99</td>\n",
       "    </tr>\n",
       "  </tbody>\n",
       "</table>\n",
       "</div>"
      ],
      "text/plain": [
       "          CPI  oil_prod  BDI_price  oil_price  C20_price\n",
       "count  393.00    393.00     393.00     393.00     393.00\n",
       "mean   200.14  71598.91    1998.21      46.87     493.23\n",
       "std     42.43   7227.93    1708.87      29.96     428.85\n",
       "min    127.40  56965.63     317.00       9.39      71.72\n",
       "25%    162.20  65949.50    1070.00      19.35     192.07\n",
       "50%    201.50  73204.54    1438.00      39.89     335.03\n",
       "75%    236.15  76974.86    2102.00      66.70     737.23\n",
       "max    296.81  84585.02   11440.00     127.77    1863.99"
      ]
     },
     "metadata": {},
     "output_type": "display_data"
    }
   ],
   "source": [
    "merged = CPI_clean.merge(oil_prod_clean, on='Date', how='outer')\n",
    "merged = merged.merge(BDI_clean, on='Date', how='outer')\n",
    "merged = merged.merge(oil_price_clean, on='Date', how='outer')\n",
    "merged = merged.merge(C20_clean, on='Date', how='outer')\n",
    "merged.dropna(inplace=True)\n",
    "print(\"Merged data:\")\n",
    "display(merged.head(3))\n",
    "\n",
    "#Descriptive stats:\n",
    "print(\"Descriptive stats:\")\n",
    "display(merged.describe().round(2))"
   ]
  },
  {
   "attachments": {},
   "cell_type": "markdown",
   "metadata": {},
   "source": [
    "### Data transformations\n",
    "Having merged the datasets i can start transforming. It is clear from the visual inspections and descriptive stats, the the variables are not stationary, with high variances. I want to have the real price of the BDI, oil and C20. I will use the CPI to divide through these and times by 100. Furthermore, I want the percentage changes of all the variables, and I will get these by taking the log-differences and time them by 100 to get them in %. By taking the log-difference of the real C20 price, we will get the real returns on the C20 stock index, which is the variable we want to explain by the other variables."
   ]
  },
  {
   "cell_type": "code",
   "execution_count": 6,
   "metadata": {},
   "outputs": [
    {
     "name": "stdout",
     "output_type": "stream",
     "text": [
      "Transformed data:\n"
     ]
    },
    {
     "data": {
      "text/html": [
       "<div>\n",
       "<style scoped>\n",
       "    .dataframe tbody tr th:only-of-type {\n",
       "        vertical-align: middle;\n",
       "    }\n",
       "\n",
       "    .dataframe tbody tr th {\n",
       "        vertical-align: top;\n",
       "    }\n",
       "\n",
       "    .dataframe thead th {\n",
       "        text-align: right;\n",
       "    }\n",
       "</style>\n",
       "<table border=\"1\" class=\"dataframe\">\n",
       "  <thead>\n",
       "    <tr style=\"text-align: right;\">\n",
       "      <th></th>\n",
       "      <th>Date</th>\n",
       "      <th>oil_prod_pct_change</th>\n",
       "      <th>real_BDI_price_pct_change</th>\n",
       "      <th>real_oil_price_pct_change</th>\n",
       "      <th>real_C20_returns</th>\n",
       "    </tr>\n",
       "  </thead>\n",
       "  <tbody>\n",
       "    <tr>\n",
       "      <th>241</th>\n",
       "      <td>1990-02-01</td>\n",
       "      <td>0.421774</td>\n",
       "      <td>-2.933031</td>\n",
       "      <td>-4.093977</td>\n",
       "      <td>-1.006450</td>\n",
       "    </tr>\n",
       "    <tr>\n",
       "      <th>242</th>\n",
       "      <td>1990-03-01</td>\n",
       "      <td>1.466086</td>\n",
       "      <td>-5.334043</td>\n",
       "      <td>-4.884909</td>\n",
       "      <td>4.426184</td>\n",
       "    </tr>\n",
       "    <tr>\n",
       "      <th>243</th>\n",
       "      <td>1990-04-01</td>\n",
       "      <td>-0.446354</td>\n",
       "      <td>-11.794700</td>\n",
       "      <td>-12.981825</td>\n",
       "      <td>-9.083662</td>\n",
       "    </tr>\n",
       "  </tbody>\n",
       "</table>\n",
       "</div>"
      ],
      "text/plain": [
       "          Date  oil_prod_pct_change  real_BDI_price_pct_change  \\\n",
       "241 1990-02-01             0.421774                  -2.933031   \n",
       "242 1990-03-01             1.466086                  -5.334043   \n",
       "243 1990-04-01            -0.446354                 -11.794700   \n",
       "\n",
       "     real_oil_price_pct_change  real_C20_returns  \n",
       "241                  -4.093977         -1.006450  \n",
       "242                  -4.884909          4.426184  \n",
       "243                 -12.981825         -9.083662  "
      ]
     },
     "metadata": {},
     "output_type": "display_data"
    }
   ],
   "source": [
    "merged_transformed = merged.copy()\n",
    "#Oil prod transformation:\n",
    "merged_transformed.insert(loc=6, column=\"oil_prod_pct_change\", value=(np.log(merged_transformed[\"oil_prod\"])-np.log(merged_transformed[\"oil_prod\"]).shift(1))*100)\n",
    "#BDI transformation:\n",
    "merged_transformed.insert(loc=7, column=\"real_BDI_price_pct_change\", value=(np.log(merged_transformed[\"BDI_price\"]/merged_transformed[\"CPI\"]*100) - np.log(merged_transformed[\"BDI_price\"]/merged_transformed[\"CPI\"]*100).shift(1))*100)\n",
    "#Oil price transformation:\n",
    "merged_transformed.insert(loc=8, column=\"real_oil_price_pct_change\", value=(np.log(merged_transformed[\"oil_price\"]/merged_transformed[\"CPI\"]*100) - np.log(merged_transformed[\"oil_price\"]/merged_transformed[\"CPI\"]*100).shift(1))*100)\n",
    "#C20 transformation:\n",
    "merged_transformed.insert(loc=9, column=\"real_C20_returns\", value=(np.log(merged_transformed[\"C20_price\"]/merged_transformed[\"CPI\"]*100) - np.log(merged_transformed[\"C20_price\"]/merged_transformed[\"CPI\"]*100).shift(1))*100)\n",
    "\n",
    "#Dropping raw variables, and keeping the four transformed variables:\n",
    "merged_transformed.drop(merged_transformed.iloc[:,1:6], axis=1, inplace=True)\n",
    "merged_transformed.dropna(inplace=True)\n",
    "\n",
    "#Illustrating transformed data:\n",
    "print(\"Transformed data:\")\n",
    "display(merged_transformed.head(3))"
   ]
  },
  {
   "attachments": {},
   "cell_type": "markdown",
   "metadata": {},
   "source": [
    "### I will now vizualise the transformed data\n"
   ]
  },
  {
   "cell_type": "code",
   "execution_count": 7,
   "metadata": {},
   "outputs": [
    {
     "name": "stdout",
     "output_type": "stream",
     "text": [
      "Plots of the transformed variables:\n"
     ]
    },
    {
     "data": {
      "text/plain": [
       "Text(0.5, 1.0, 'Real returns of the C20 index')"
      ]
     },
     "execution_count": 7,
     "metadata": {},
     "output_type": "execute_result"
    },
    {
     "data": {
      "image/png": "[encoded data removed]",
      "text/plain": [
       "<Figure size 1080x504 with 4 Axes>"
      ]
     },
     "metadata": {
      "needs_background": "light"
     },
     "output_type": "display_data"
    }
   ],
   "source": [
    "print(\"Plots of the transformed variables:\")\n",
    "fig_transformed, axs = plt.subplots(2,2, figsize=(15,7))\n",
    "axs[0,0].plot(merged_transformed['Date'], merged_transformed['oil_prod_pct_change'])\n",
    "axs[0, 0].set_title('Oil production pct. change')\n",
    "axs[0,1].plot(merged_transformed['Date'], merged_transformed['real_BDI_price_pct_change'])\n",
    "axs[0, 1].set_title('Real BDI price pct. change')\n",
    "axs[1,0].plot(merged_transformed['Date'], merged_transformed['real_oil_price_pct_change'])\n",
    "axs[1, 0].set_title('Real oil price pct. change')\n",
    "axs[1,1].plot(merged_transformed['Date'], merged_transformed['real_C20_returns'])\n",
    "axs[1, 1].set_title('Real returns of the C20 index')\n"
   ]
  },
  {
   "attachments": {},
   "cell_type": "markdown",
   "metadata": {},
   "source": [
    "The variables now look close to stationary, but with outliers and changing variance for some of them. We assume stationarity for all of them."
   ]
  },
  {
   "attachments": {},
   "cell_type": "markdown",
   "metadata": {},
   "source": [
    "## Empirical analysis\n",
    "In this section we will analyze if the danish stock returns can be explained by the oil production, oil price and aggregate demand (proxied by the BDI) variables. We will do this by making a simple linear regression with the real stock returns as the dependent variable, and the change in oil production, real change in BDI price and real change in oil price as the independent variables in each their equation.\n",
    "\n",
    "The linear regression has the form:\n",
    "\n",
    "$C20_t = \\alpha + \\beta_1 y_t + + \\epsilon_t$\n",
    "\n",
    "Where $\\alpha$ is a constant, $\\beta_1$ are coefficients and $\\epsilon_t$ are the residuals. The variable names refers to the transformed versions.\n",
    "\n",
    "We will make 3 regressions, such that there are 1 independent variable in each, and then compare how they seem to fit the real C20 returns.\n",
    "\n",
    "Then we will plot the original data points of the real returns on the C20, and make an interactive scatter plot that shows the predicted values of the real returns of the C20 from each regression.\n",
    "\n"
   ]
  },
  {
   "cell_type": "code",
   "execution_count": 8,
   "metadata": {},
   "outputs": [],
   "source": [
    "#Creating the 3 regressions using the user defined function lin_reg.\n",
    "y = merged_transformed['real_C20_returns']\n",
    "T = np.linspace(1,len(y),len(y))\n",
    "\n",
    "#C20 explained by oil production percentage change:\n",
    "x1 = merged_transformed['oil_prod_pct_change']\n",
    "alpha1, beta1, y_hat1 =lin_reg(x1, y)\n",
    "\n",
    "#C20 explained by real BDI percentage change:\n",
    "x2 = merged_transformed['real_BDI_price_pct_change']\n",
    "alpha2, beta2, y_hat2 =lin_reg(x2, y)\n",
    "\n",
    "#C20 explained by real oil price percentage change:\n",
    "x3 = merged_transformed['real_oil_price_pct_change']\n",
    "alpha3, beta3, y_hat3 =lin_reg(x3, y)\n",
    "\n"
   ]
  },
  {
   "cell_type": "code",
   "execution_count": 9,
   "metadata": {},
   "outputs": [
    {
     "name": "stdout",
     "output_type": "stream",
     "text": [
      "Choose which regression to show:\n"
     ]
    },
    {
     "data": {
      "application/vnd.jupyter.widget-view+json": {
       "model_id": "fb6deae058ee4e8fb27f9d08b92a2521",
       "version_major": 2,
       "version_minor": 0
      },
      "text/plain": [
       "Dropdown(description='Select Plot:', layout=Layout(width='300px'), options=(('Real C20 Returns', 1), ('Real C2…"
      ]
     },
     "metadata": {},
     "output_type": "display_data"
    },
    {
     "data": {
      "image/png": "[encoded data removed]",
      "text/plain": [
       "<Figure size 432x288 with 1 Axes>"
      ]
     },
     "metadata": {
      "needs_background": "light"
     },
     "output_type": "display_data"
    }
   ],
   "source": [
    "\n",
    "\n",
    "# Define the scatter plot function\n",
    "def plot_data(data_index):\n",
    "    plt.clf()  # Clear the previous plot\n",
    "    plt.scatter(T, y)  # Always plot scatter plot 1\n",
    "    if data_index == 2:\n",
    "        plt.scatter(T, y_hat1)\n",
    "    elif data_index == 3:\n",
    "        plt.scatter(T, y_hat2)\n",
    "    elif data_index == 4:\n",
    "        plt.scatter(T, y_hat3)\n",
    "    plt.title(f'Scatter Plot {data_index}')\n",
    "\n",
    "# Create the interactive dropdown widget\n",
    "dropdown = Dropdown(options=[('Real C20 Returns', 1), ('Real C20 returns predicted from oil production change', 2), \n",
    "                             ('Real C20 returns predicted from real BDI price change', 3), ('Real C20 returns predicted from real oil price change', 4)],\n",
    "                    value=1,\n",
    "                    description='Select Plot:',\n",
    "                    layout={'width': '300px'})\n",
    "\n",
    "# Define the update function for the dropdown\n",
    "def update_plot(change):\n",
    "    plot_data(change.new)\n",
    "\n",
    "# Link the dropdown to the update function\n",
    "dropdown.observe(update_plot, names='value')\n",
    "\n",
    "# Plot the initial scatter plot\n",
    "plot_data(dropdown.value)\n",
    "print(\"Choose which regression to show:\")\n",
    "\n",
    "# Display the plot and the dropdown widget\n",
    "display(dropdown)\n",
    "plt.show()\n",
    "\n",
    "\n"
   ]
  },
  {
   "cell_type": "markdown",
   "metadata": {},
   "source": [
    "# Conclusion"
   ]
  },
  {
   "attachments": {},
   "cell_type": "markdown",
   "metadata": {},
   "source": [
    "I originally wanted to make a linear regression with multiple independent variables. However, as i was unsure whether we could install packages for this purpose, i decided to create my own linear regression function, but only with 1 independent variable.\n",
    "\n",
    "The conclusion is that none of the regressions seem to explain the real returns on the C20 index closely. The real price of the BDI index, seems to catch a marginally higher percentage of the variance, but nothing satisfying. If we were to have a linear regression including all the 3 independent variables, the percent of explained variance of the real returns on C20 index, would most likely be higher. \n",
    "\n",
    "The plots are very similar. A possible solution could be not to take the log-differences of any of the variables, and then doing the same analysis. This would have resulted in more linear graphs, and the resulting prediction from the linear regressions would have been more comparable."
   ]
  }
 ],
 "metadata": {
  "kernelspec": {
   "display_name": "base",
   "language": "python",
   "name": "python3"
  },
  "language_info": {
   "codemirror_mode": {
    "name": "ipython",
    "version": 3
   },
   "file_extension": ".py",
   "mimetype": "text/x-python",
   "name": "python",
   "nbconvert_exporter": "python",
   "pygments_lexer": "ipython3",
   "version": "3.9.7"
  },
  "toc-autonumbering": true,
  "vscode": {
   "interpreter": {
    "hash": "47ef90cdf3004d3f859f1fb202523c65c07ba7c22eefd261b181f4744e2d0403"
   }
  }
 },
 "nbformat": 4,
 "nbformat_minor": 4
}
