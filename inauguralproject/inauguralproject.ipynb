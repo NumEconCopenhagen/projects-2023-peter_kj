{
 "cells": [
  {
   "attachments": {},
   "cell_type": "markdown",
   "metadata": {},
   "source": [
    "# Inaugural Project\n",
    "\n",
    "### Group peter_kj"
   ]
  },
  {
   "cell_type": "markdown",
   "metadata": {},
   "source": [
    "Imports and set magics:"
   ]
  },
  {
   "cell_type": "code",
   "execution_count": 7,
   "metadata": {},
   "outputs": [
    {
     "name": "stdout",
     "output_type": "stream",
     "text": [
      "The autoreload extension is already loaded. To reload it, use:\n",
      "  %reload_ext autoreload\n"
     ]
    }
   ],
   "source": [
    "import numpy as np\n",
    "\n",
    "# autoreload modules when code is run. Otherwise, python will not see recent changes. \n",
    "%load_ext autoreload\n",
    "%autoreload 2\n",
    "\n",
    "# Import your own code\n",
    "import inauguralproject as code\n",
    "\n",
    "#Importing\n",
    "from types import SimpleNamespace\n",
    "\n",
    "import numpy as np\n",
    "from scipy import optimize\n",
    "\n",
    "import pandas as pd \n",
    "import matplotlib.pyplot as plt\n",
    "import math\n"
   ]
  },
  {
   "attachments": {},
   "cell_type": "markdown",
   "metadata": {},
   "source": [
    "**Class and functions used throughout. Under each question, the functions used are referred to.**"
   ]
  },
  {
   "cell_type": "code",
   "execution_count": 8,
   "metadata": {},
   "outputs": [],
   "source": [
    "# # code for solving the model (remember documentation and comments)\n",
    "\n",
    "#Setting up class\n",
    "class HouseHoldClass1:\n",
    "\n",
    "    def __init__(self, alpha=0.5, sigma=1.0, wF=1.0):\n",
    "\n",
    "        #Create namespaces:\n",
    "        par = self.par = SimpleNamespace()\n",
    "        sol = self.sol = SimpleNamespace()\n",
    "\n",
    "    #Setting up parameter values for question 1:\n",
    "\n",
    "        #Basic preferences:\n",
    "        par.rho = 2.0\n",
    "        par.nu = 0.001\n",
    "        par.epsilon = 1.0\n",
    "        par.omega = 0.5\n",
    "\n",
    "        # #Household production: (Baseline values defined in init function)\n",
    "        par.alpha = alpha\n",
    "        par.sigma = sigma\n",
    "\n",
    "        #wages:\n",
    "        par.wM = 1.0\n",
    "        par.wF = wF\n",
    "        par.wF_vec = np.linspace(0.8,1.2,5)\n",
    "\n",
    "        #targets:\n",
    "        par.beta0_target = 0.4\n",
    "        par.beta1_target = -0.1\n",
    "\n",
    "\n",
    "        # f. solution\n",
    "        sol.LM_vec = np.zeros(par.wF_vec.size)\n",
    "        sol.HM_vec = np.zeros(par.wF_vec.size)\n",
    "        sol.LF_vec = np.zeros(par.wF_vec.size)\n",
    "        sol.HF_vec = np.zeros(par.wF_vec.size)\n",
    "\n",
    "        sol.beta0 = np.nan\n",
    "        sol.beta1 = np.nan\n",
    "\n",
    "\n",
    "#Utility function \n",
    "    def calc_utility(self,LM,HM,LF,HF):\n",
    "        \"\"\" calculate utility \"\"\"\n",
    "\n",
    "        par = self.par\n",
    "        sol = self.sol\n",
    "\n",
    "        #Defining consumption of market goods:\n",
    "        C = par.wM*LM + par.wF*LF\n",
    "\n",
    "        #Defining home production:\n",
    "        if par.sigma == 0:\n",
    "            H = np.minimum(HM,HF)\n",
    "        elif par.sigma == 1.0:\n",
    "            H = HM**(1.0-par.alpha) * HF**(par.alpha)\n",
    "        else:\n",
    "            H = ((1.0-par.alpha)*HM**((par.sigma-1.0)/par.sigma) + par.alpha * HF**((par.sigma-1)/par.sigma))**(par.sigma/(par.sigma-1.0))\n",
    "\n",
    "        #Defining total consumption:\n",
    "        Q = C**(par.omega) * H**(1-par.omega)\n",
    "\n",
    "        #Defining utility, disutility and constraints of max problem:\n",
    "        #a: utility:\n",
    "        utility = np.fmax(Q,1e-8)**(1-par.rho) / (1-par.rho)\n",
    "\n",
    "        #b: disutility and constraints:\n",
    "        #For convenience, we set epsilon_ to the whole denominator isince brackets of disutility\n",
    "        epsilon_ = 1 + 1/par.epsilon\n",
    "        TM = LM + HM\n",
    "        TF = LF + HF\n",
    "        disutility = par.nu*(TM**epsilon_/epsilon_ + TF**epsilon_/epsilon_)\n",
    "\n",
    "        #functions should return final utility:\n",
    "        return utility - disutility\n",
    "    \n",
    "\n",
    "    def solve_discrete(self,do_print=False):\n",
    "        \"\"\" solve model discretely \"\"\"\n",
    "        \n",
    "        par = self.par\n",
    "        sol = self.sol\n",
    "        opt = SimpleNamespace()\n",
    "        \n",
    "        # a. all possible choices\n",
    "        x = np.linspace(0,24,49)\n",
    "        LM,HM,LF,HF = np.meshgrid(x,x,x,x) # all combinations\n",
    "    \n",
    "        LM = LM.ravel() # vector\n",
    "        HM = HM.ravel()\n",
    "        LF = LF.ravel()\n",
    "        HF = HF.ravel()\n",
    "\n",
    "        # b. calculate utility\n",
    "        u = self.calc_utility(LM,HM,LF,HF)\n",
    "    \n",
    "        # c. set to minus infinity if constraint is broken\n",
    "        I = (LM+HM > 24) | (LF+HF > 24) # | is \"or\"\n",
    "        u[I] = -np.inf\n",
    "    \n",
    "        # d. find maximizing argument\n",
    "        j = np.argmax(u)\n",
    "        \n",
    "        opt.LM = LM[j]\n",
    "        opt.HM = HM[j]\n",
    "        opt.LF = LF[j]\n",
    "        opt.HF = HF[j]\n",
    "\n",
    "        # e. print\n",
    "        if do_print:\n",
    "            for k,v in opt.__dict__.items():\n",
    "                print(f'{k} = {v:6.4f}')\n",
    "\n",
    "        return opt\n",
    "    \n",
    "\n",
    "\n",
    "\n",
    "   \n",
    "\n",
    "    def solve(self,do_print=False):\n",
    "        \"\"\" solve model continously \"\"\"\n",
    "        \n",
    "        par = self.par\n",
    "        sol = self.sol\n",
    "        opt = SimpleNamespace()\n",
    "        \n",
    "\n",
    "        #x0:LM, x1:HM, x2:LF, x3:HF \n",
    "\n",
    "        #constraints and bounds\n",
    "        \n",
    "        obj = lambda x: -self.calc_utility(x[0], x[1], x[2], x[3])\n",
    "        constraint1 = lambda x: 24 - x[0] - x[1]\n",
    "        constraint2 = lambda x: 24 - x[2] - x[3]\n",
    "        #constraint3 = lambda x: \n",
    "        constraints = ({'type': 'ineq', 'fun':constraint1, 'fun':constraint2})\n",
    "        bounds = ((1e-8,24), (1e-8,24), (1e-8,24), (1e-8,24))\n",
    "\n",
    "        \n",
    "        #Guessing on 4 hours spent on home work and market work for both genders\n",
    "        x0 = [4,4,4,4]\n",
    "        #call solver\n",
    "        result = optimize.minimize(obj, x0, method='SLSQP', bounds=bounds, constraints=constraints)\n",
    "\n",
    "\n",
    "        # sol.x1 = result.x[0]\n",
    "        # sol.x2 = result.x[1]\n",
    "        # sol.x3 = result.x[2]\n",
    "        # sol.x4 = result.x[3]\n",
    "\n",
    "        opt.LM = result.x[0]\n",
    "        opt.HM = result.x[1]\n",
    "        opt.LF = result.x[2]\n",
    "        opt.HF = result.x[3]\n",
    "\n",
    "        return opt\n",
    "          \n",
    "\n",
    "    def solve_wF_vec(self,discrete=False):\n",
    "        \"\"\" solve model for vector of female wages \"\"\"\n",
    "                \n",
    "        par = self.par\n",
    "        sol = self.sol\n",
    "        \n",
    "        #Running continuous solve with baseline values for each of the 5 wF values:\n",
    "        i=0\n",
    "        while i<5:\n",
    "            for par.wF in par.wF_vec:\n",
    "                sol.HF_vec[i] = self.solve().HF\n",
    "                sol.HM_vec[i] = self.solve().HM\n",
    "                sol.LF_vec[i] = self.solve().LF\n",
    "                sol.LM_vec[i] = self.solve().LM\n",
    "                i=i+1\n",
    "    \n",
    "        return sol\n",
    "        \n",
    "\n",
    "    def run_regression(self):\n",
    "        \"\"\" run regression \"\"\"\n",
    "\n",
    "        par = self.par\n",
    "        sol = self.sol\n",
    "\n",
    "        x = np.log(par.wF_vec)\n",
    "        #y = np.log(sol.HF_vec/sol.HM_vec)\n",
    "        y = np.log(self.solve_wF_vec().HF_vec/self.solve_wF_vec().HM_vec)\n",
    "        A = np.vstack([np.ones(x.size),x]).T\n",
    "        sol.beta0,sol.beta1 = np.linalg.lstsq(A,y,rcond=None)[0]\n",
    "\n",
    "    \n",
    "        return sol\n",
    "    \n"
   ]
  },
  {
   "attachments": {},
   "cell_type": "markdown",
   "metadata": {},
   "source": [
    "# Question 1"
   ]
  },
  {
   "attachments": {},
   "cell_type": "markdown",
   "metadata": {},
   "source": [
    "I changed the alpha and sigma parameters in the __init__ function, such that different values can be given as input when running an instance of the class. If none is given, the baseline values are used.\n",
    "\n",
    "I solve the question by pre-allocating a 3x3 matrix.\n",
    "\n",
    "I then use nested for loops to run and instance of the class for each of the 9 combinations of sigma and alpha. I use while loops to allocate the output of HF/HM to the right indexes in the matrix.\n",
    "\n",
    "I then use the tabulate package to put the results in a table with row and column names. Hence, install the below package before running. If you are unable to install, then just comment it out together with the last two lines of the code.\n",
    "\n",
    "Conclusion is that:\n",
    "- When alpha = 0.25 then the HF/HM ratio have negative relationship with sigma.\n",
    "- When alpha = 0.5 then the HF/HM ratio doesn't change with sigma.\n",
    "- When alpha = 0.75 then the HF/HM ratio have a positive relationship with sigma."
   ]
  },
  {
   "cell_type": "code",
   "execution_count": 9,
   "metadata": {},
   "outputs": [
    {
     "name": "stdout",
     "output_type": "stream",
     "text": [
      "Requirement already satisfied: tabulate in c:\\users\\peter\\anaconda3\\lib\\site-packages (0.9.0)\n"
     ]
    }
   ],
   "source": [
    "#IF U HAVE NOT INSTALLED TABULATE, THIS NEEDS TO BE DONE TO SHOW THE RESULTS NICELY\n",
    "#If you are unable to install, then just comment it out together with the last two lines of the code.\n",
    "!pip install tabulate\n",
    "from tabulate import tabulate"
   ]
  },
  {
   "cell_type": "code",
   "execution_count": 10,
   "metadata": {},
   "outputs": [
    {
     "name": "stdout",
     "output_type": "stream",
     "text": [
      "alpha: 0.25\n",
      "sigma: 0.5\n"
     ]
    },
    {
     "name": "stderr",
     "output_type": "stream",
     "text": [
      "C:\\Users\\Peter\\AppData\\Local\\Temp/ipykernel_13652/257951892.py:60: RuntimeWarning: divide by zero encountered in reciprocal\n",
      "  H = ((1.0-par.alpha)*HM**((par.sigma-1.0)/par.sigma) + par.alpha * HF**((par.sigma-1)/par.sigma))**(par.sigma/(par.sigma-1.0))\n"
     ]
    },
    {
     "name": "stdout",
     "output_type": "stream",
     "text": [
      "HF/HM: 0.5454545454545454\n",
      "__________________\n",
      "alpha: 0.25\n",
      "sigma: 1.0\n",
      "HF/HM: 0.3076923076923077\n",
      "__________________\n",
      "alpha: 0.25\n",
      "sigma: 1.5\n",
      "HF/HM: 0.21428571428571427\n",
      "__________________\n",
      "alpha: 0.5\n",
      "sigma: 0.5\n"
     ]
    },
    {
     "ename": "KeyboardInterrupt",
     "evalue": "",
     "output_type": "error",
     "traceback": [
      "\u001b[1;31m---------------------------------------------------------------------------\u001b[0m",
      "\u001b[1;31mKeyboardInterrupt\u001b[0m                         Traceback (most recent call last)",
      "\u001b[1;32m~\\AppData\\Local\\Temp/ipykernel_13652/2756425208.py\u001b[0m in \u001b[0;36m<module>\u001b[1;34m\u001b[0m\n\u001b[0;32m     20\u001b[0m                 \u001b[1;31m#print(j)\u001b[0m\u001b[1;33m\u001b[0m\u001b[1;33m\u001b[0m\u001b[0m\n\u001b[0;32m     21\u001b[0m                 \u001b[0minst1\u001b[0m \u001b[1;33m=\u001b[0m \u001b[0mHouseHoldClass1\u001b[0m\u001b[1;33m(\u001b[0m\u001b[0malpha\u001b[0m\u001b[1;33m=\u001b[0m\u001b[0malpha\u001b[0m\u001b[1;33m,\u001b[0m \u001b[0msigma\u001b[0m\u001b[1;33m=\u001b[0m\u001b[0msigma\u001b[0m\u001b[1;33m)\u001b[0m\u001b[1;33m\u001b[0m\u001b[1;33m\u001b[0m\u001b[0m\n\u001b[1;32m---> 22\u001b[1;33m                 \u001b[0mHF_HM_ratio\u001b[0m\u001b[1;33m[\u001b[0m\u001b[0mi\u001b[0m\u001b[1;33m,\u001b[0m\u001b[0mj\u001b[0m\u001b[1;33m]\u001b[0m\u001b[1;33m=\u001b[0m\u001b[0minst1\u001b[0m\u001b[1;33m.\u001b[0m\u001b[0msolve_discrete\u001b[0m\u001b[1;33m(\u001b[0m\u001b[1;33m)\u001b[0m\u001b[1;33m.\u001b[0m\u001b[0mHF\u001b[0m\u001b[1;33m/\u001b[0m\u001b[0minst1\u001b[0m\u001b[1;33m.\u001b[0m\u001b[0msolve_discrete\u001b[0m\u001b[1;33m(\u001b[0m\u001b[1;33m)\u001b[0m\u001b[1;33m.\u001b[0m\u001b[0mHM\u001b[0m\u001b[1;33m\u001b[0m\u001b[1;33m\u001b[0m\u001b[0m\n\u001b[0m\u001b[0;32m     23\u001b[0m                 \u001b[0mprint\u001b[0m\u001b[1;33m(\u001b[0m\u001b[1;34m'HF/HM:'\u001b[0m\u001b[1;33m,\u001b[0m \u001b[0minst1\u001b[0m\u001b[1;33m.\u001b[0m\u001b[0msolve_discrete\u001b[0m\u001b[1;33m(\u001b[0m\u001b[1;33m)\u001b[0m\u001b[1;33m.\u001b[0m\u001b[0mHF\u001b[0m\u001b[1;33m/\u001b[0m\u001b[0minst1\u001b[0m\u001b[1;33m.\u001b[0m\u001b[0msolve_discrete\u001b[0m\u001b[1;33m(\u001b[0m\u001b[1;33m)\u001b[0m\u001b[1;33m.\u001b[0m\u001b[0mHM\u001b[0m\u001b[1;33m)\u001b[0m\u001b[1;33m\u001b[0m\u001b[1;33m\u001b[0m\u001b[0m\n\u001b[0;32m     24\u001b[0m                 \u001b[0mprint\u001b[0m\u001b[1;33m(\u001b[0m\u001b[1;34m'__________________'\u001b[0m\u001b[1;33m)\u001b[0m\u001b[1;33m\u001b[0m\u001b[1;33m\u001b[0m\u001b[0m\n",
      "\u001b[1;31mKeyboardInterrupt\u001b[0m: "
     ]
    }
   ],
   "source": [
    "#CODE SECTION\n",
    "\n",
    "#Creating array for HF/HM values:\n",
    "\n",
    "HF_HM_ratio = np.empty((3,3))\n",
    "\n",
    "#Looping over the values:\n",
    "\n",
    "#Setting count:\n",
    "count = 0\n",
    "i=0\n",
    "while i<len(HF_HM_ratio):  \n",
    "    for alpha in [0.25, 0.50, 0.75]:\n",
    "        j=0\n",
    "        while j<len(HF_HM_ratio):\n",
    "            for sigma in [0.5, 1.0, 1.5]:\n",
    "                print('alpha:', alpha)\n",
    "                print('sigma:', sigma)\n",
    "                #print(i)\n",
    "                #print(j)\n",
    "                inst1 = HouseHoldClass1(alpha=alpha, sigma=sigma)\n",
    "                HF_HM_ratio[i,j]=inst1.solve_discrete().HF/inst1.solve_discrete().HM\n",
    "                print('HF/HM:', inst1.solve_discrete().HF/inst1.solve_discrete().HM)\n",
    "                print('__________________')\n",
    "                count = count + 1\n",
    "                j=j+1\n",
    "        i=i+1\n",
    "            \n",
    "#Creating illustration\n",
    "col_names = ['','sigma=0.5', 'sigma=1.0', 'sigma=1.5']\n",
    "row_names = ['alpha=0.25', 'alpha=0.5', 'alpha=0.75']\n",
    "\n",
    "#Concatenating row names to the data\n",
    "illustration = np.c_[row_names, HF_HM_ratio]\n",
    "\n",
    "#Using imported tabulate function to create table with the row names added\n",
    "#(Comment out if tabulate not installed)\n",
    "print('Values of HF/HM for all possible combinations of alpha and sigma')\n",
    "print(tabulate(illustration, headers=col_names, tablefmt=\"fancy_grid\"))"
   ]
  },
  {
   "cell_type": "markdown",
   "metadata": {},
   "source": [
    "# Question 2"
   ]
  },
  {
   "attachments": {},
   "cell_type": "markdown",
   "metadata": {},
   "source": [
    "I have changed the input in the __init__ function, such that female wage can be given as an input. If none is given, it still uses the baseline value. The baseline male wage is used.\n",
    "\n",
    "I create a vector of the 5 different values of female wage.\n",
    "I then run the solve_discrete function 5 times, with the 5 different values of wF. I do this by pre-allocating vectors for the HF/HM and wF/wM results, and then running a loop that puts the outputs in each vector, which is then plotted.\n",
    "\n",
    "The conclusion is that there is a clear negative relationship between female wage and the ratio between female and male home-working hours. A low female wage indicates that the female works relatively more from home than the male, and vice versa. "
   ]
  },
  {
   "cell_type": "code",
   "execution_count": null,
   "metadata": {},
   "outputs": [
    {
     "data": {
      "text/plain": [
       "Text(0, 0.5, 'log(HF/HM)')"
      ]
     },
     "execution_count": 5,
     "metadata": {},
     "output_type": "execute_result"
    },
    {
     "data": {
      "image/png": "[encoded data removed]",
      "text/plain": [
       "<Figure size 432x288 with 1 Axes>"
      ]
     },
     "metadata": {
      "needs_background": "light"
     },
     "output_type": "display_data"
    }
   ],
   "source": [
    "#Defining vector of wF values:\n",
    "wF_vec = np.linspace(0.8,1.2,5)\n",
    "\n",
    "#Initializing x and y for plot:\n",
    "HF_HM_ratio = np.empty(5)\n",
    "log_wF_wM_ratio = np.empty(5)\n",
    "\n",
    "#Running discrete solve with baseline values for each of the 5 wF values:\n",
    "count=0\n",
    "i=0\n",
    "while i<5:\n",
    "    for wF in wF_vec:\n",
    "        inst2 = HouseHoldClass1(wF=wF)\n",
    "        HF_HM_ratio[i] = np.log(inst2.solve_discrete().HF/inst2.solve_discrete().HM)\n",
    "        log_wF_wM_ratio[i] = np.log(wF/1)\n",
    "        i=i+1\n",
    "\n",
    "#print(HF_HM_ratio)\n",
    "#print(log_wF_wH_ratio)\n",
    "\n",
    "plt.plot(log_wF_wM_ratio, HF_HM_ratio, 'o')\n",
    "plt.xlabel('log(wF/wM)')\n",
    "plt.ylabel('log(HF/HM)')\n"
   ]
  },
  {
   "cell_type": "markdown",
   "metadata": {},
   "source": [
    "# Question 3"
   ]
  },
  {
   "attachments": {},
   "cell_type": "markdown",
   "metadata": {},
   "source": [
    "I have added a __solve__ function in the 'class and function' section to solve the model continously. I use scipy.optimize.minimize on the variables LM, LF, HM and HF. I do this by setting up and objective function, which is the calc_utility. I then optimize this with the SLSQP method, with constraints LM+HM<24 and LF+HF<24. I use the bounds (LM, HM, LF, HF) $\\in$ [0,24]. Futhermore, I have added a __solve_wF_vec__ function that solves the model continously for all the values in wF_vec and assigns the results to the solution vectors in the __init__ function.\n",
    "\n",
    "I then plot the results.\n",
    "\n",
    "We can conclude that there now is a minor negative relationship between female wage and the ratio of female to male home-working hours. To compare with question 2, we can see that the ratio of wF/wM now only changes the optimal ratio of HF/HM for the two most extreme values of wF."
   ]
  },
  {
   "cell_type": "code",
   "execution_count": null,
   "metadata": {},
   "outputs": [
    {
     "data": {
      "text/plain": [
       "Text(0, 0.5, 'log(HF/HM)')"
      ]
     },
     "execution_count": 6,
     "metadata": {},
     "output_type": "execute_result"
    },
    {
     "data": {
      "image/png": "[encoded data removed]",
      "text/plain": [
       "<Figure size 432x288 with 1 Axes>"
      ]
     },
     "metadata": {
      "needs_background": "light"
     },
     "output_type": "display_data"
    }
   ],
   "source": [
    "#Using the \n",
    "inst3 = HouseHoldClass1(sigma=1)\n",
    "wF_vec=[0.8,0.9,1.0,1.1,1.2]\n",
    "plt.plot(np.log(wF_vec), np.log(inst3.solve_wF_vec().HF_vec/inst3.solve_wF_vec().HM_vec), 'o')\n",
    "plt.xlabel('log(wF/wM)')\n",
    "plt.ylabel('log(HF/HM)')\n"
   ]
  },
  {
   "attachments": {},
   "cell_type": "markdown",
   "metadata": {},
   "source": [
    "# Question 4"
   ]
  },
  {
   "attachments": {},
   "cell_type": "markdown",
   "metadata": {},
   "source": [
    "I solve this question by looping through 50 combinations of alpha and sigma, specified below. For each combination, and instance of the main class is run with the function __run_regression__. Then the calculated coeffecients are used to calculate the sum of squared differences. All output is appended in the 3 pre-allocated lists, and finally argmin is used on the vector of squared difference sums, to find the index of the minimum one. This index is used to to show what values of alpha and sigma led to the minimized sum."
   ]
  },
  {
   "cell_type": "code",
   "execution_count": null,
   "metadata": {},
   "outputs": [
    {
     "name": "stdout",
     "output_type": "stream",
     "text": [
      "I will try all combinations of alpha=[0.1, 0.2, 0.3, 0.4, 0.5, 0.6, 0.7, 0.8, 0.9, 1.] and sigma=[0.1, 0.5, 1.0, 1.5, 2.0]\n"
     ]
    },
    {
     "name": "stderr",
     "output_type": "stream",
     "text": [
      "c:\\Users\\Peter\\anaconda3\\lib\\site-packages\\scipy\\optimize\\optimize.py:282: RuntimeWarning: Values in x were outside bounds during a minimize step, clipping to bounds\n",
      "  warnings.warn(\"Values in x were outside bounds during a \"\n"
     ]
    },
    {
     "name": "stdout",
     "output_type": "stream",
     "text": [
      "The minimized sum of squared differences is 0.033105315420753456 with alpha=0.9 and sigma=0.1\n"
     ]
    }
   ],
   "source": [
    "#Setting intervals for alpha and sigma\n",
    "alpha_int = np.linspace(0.1,1.0,10)\n",
    "sigma_int = np.array([0.1, 0.5, 1.0, 1.5, 2.0])\n",
    "print('I will try all combinations of alpha=[0.1, 0.2, 0.3, 0.4, 0.5, 0.6, 0.7, 0.8, 0.9, 1.] and sigma=[0.1, 0.5, 1.0, 1.5, 2.0]')\n",
    "#Pre-allocating lists for output\n",
    "alpha_output = []\n",
    "sigma_output = []\n",
    "squared_diff_output = []\n",
    "\n",
    "#Running nested loop for all combinations of alpha and sigma. \n",
    "#It runs the the regression for the class with the given parameters, calculates the sum of squared diff'set\n",
    "#and appends the results to the 3 lists\n",
    "\n",
    "for alpha in alpha_int:\n",
    "    for sigma in sigma_int:\n",
    "        inst5 = HouseHoldClass1(alpha=alpha, sigma=sigma, wF=1.0).run_regression()\n",
    "        squared_diff = (0.4-inst5.beta0)**2 + (-0.1 - inst5.beta1)**2\n",
    "        # print(f\"alpha: {alpha}\")\n",
    "        # print(f\"sigma: {sigma}\")\n",
    "        # print(f\"squared diff: {squared_diff}\")\n",
    "        # print(\"________________\")\n",
    "        alpha_output.append(alpha)\n",
    "        sigma_output.append(sigma)\n",
    "        squared_diff_output.append(squared_diff)\n",
    "\n",
    "#Printing the results by using argmin on squared_diff_output and using the resulting index to find the optimal alpha and sigma\n",
    "print(f\"The minimized sum of squared differences is {squared_diff_output[np.argmin(squared_diff_output)]} with alpha={alpha_output[np.argmin(squared_diff_output)]} and sigma={sigma_output[np.argmin(squared_diff_output)]}\")\n",
    "\n"
   ]
  },
  {
   "attachments": {},
   "cell_type": "markdown",
   "metadata": {},
   "source": [
    "Having found the optimal values of alpha in sigma, in order to minimize the sum squared beta-diff's, that is, we now extract the data by running the class with the optimal alpha and sigma parameters. I do this by solving the model for all the values of wF and save solution HF and HM vectors. I then extract the beta0 and beta1, so that I can calculate log(HF/HM) = beta0 + beta1*log(wF/wM). I plot the solution log(HF/HM) and the one calculated by the beta-coeffecients against log(wF/wM).\n",
    "\n",
    "In conclusion, we see that the estimated beta-coefficients gives a relatively good fit to the data. THere is a clear negative relationship between female wage and the ratio of female to male home-working hours. This makes intuitive sense, since an individual earning a high wage will obviously be more incentivized to spend time in the labor market."
   ]
  },
  {
   "cell_type": "code",
   "execution_count": null,
   "metadata": {},
   "outputs": [
    {
     "data": {
      "text/plain": [
       "<matplotlib.legend.Legend at 0x1d00c279e50>"
      ]
     },
     "execution_count": 8,
     "metadata": {},
     "output_type": "execute_result"
    },
    {
     "data": {
      "image/png": "[encoded data removed]",
      "text/plain": [
       "<Figure size 432x288 with 1 Axes>"
      ]
     },
     "metadata": {
      "needs_background": "light"
     },
     "output_type": "display_data"
    }
   ],
   "source": [
    "#We found optimal choices of alpha=0.9 and sigma = 0.1. \n",
    "#I will now solve the model for all the values of wF and plot log(wF/wM) against log(HF/HM)\n",
    "inst6 = HouseHoldClass1(alpha=0.9, sigma=0.1).solve_wF_vec()\n",
    "x1 = np.log(wF_vec)\n",
    "y1 = np.log(inst6.HF_vec/inst6.HM_vec)\n",
    "\n",
    "\n",
    "#I now retrieve beta0 and beta1 from running regression with optimal alpha and sigma.\n",
    "#I then use these together with wF to calculate log(HF/HM) and compare the results.\n",
    "inst7 = HouseHoldClass1(alpha=0.9, sigma=0.1).run_regression()\n",
    "beta0=inst7.beta0\n",
    "beta1=inst7.beta1\n",
    "x2 = np.log(wF_vec)\n",
    "y2 = beta0 + beta1*np.log(wF_vec)\n",
    "\n",
    "#Plotting\n",
    "plt.plot(x1,y1,'o',label='Continuosly solved for wF_vec')\n",
    "plt.plot(x2,y2,'o', label=\"log(HF/HM) = beta0 + beta1*log(wF/wM)\")\n",
    "plt.xlabel(\"log(wF/wM)\")\n",
    "plt.ylabel(\"log(HF/HM)\")\n",
    "plt.title(\"Comparison of the data with alpha=0.9 and sigma=0.1\")\n",
    "plt.legend()\n",
    "\n",
    "\n",
    "\n",
    "\n"
   ]
  },
  {
   "attachments": {},
   "cell_type": "markdown",
   "metadata": {},
   "source": [
    "# Question 5"
   ]
  },
  {
   "attachments": {},
   "cell_type": "markdown",
   "metadata": {},
   "source": []
  },
  {
   "cell_type": "code",
   "execution_count": null,
   "metadata": {},
   "outputs": [],
   "source": [
    "\n"
   ]
  }
 ],
 "metadata": {
  "kernelspec": {
   "display_name": "base",
   "language": "python",
   "name": "python3"
  },
  "language_info": {
   "codemirror_mode": {
    "name": "ipython",
    "version": 3
   },
   "file_extension": ".py",
   "mimetype": "text/x-python",
   "name": "python",
   "nbconvert_exporter": "python",
   "pygments_lexer": "ipython3",
   "version": "3.9.7"
  },
  "toc-autonumbering": true,
  "vscode": {
   "interpreter": {
    "hash": "47ef90cdf3004d3f859f1fb202523c65c07ba7c22eefd261b181f4744e2d0403"
   }
  }
 },
 "nbformat": 4,
 "nbformat_minor": 4
}
