{
 "cells": [
  {
   "attachments": {},
   "cell_type": "markdown",
   "metadata": {},
   "source": [
    "# Extensions to the Basic Solow Model"
   ]
  },
  {
   "attachments": {},
   "cell_type": "markdown",
   "metadata": {},
   "source": [
    "Imports and set magics:"
   ]
  },
  {
   "cell_type": "code",
   "execution_count": 1,
   "metadata": {},
   "outputs": [
    {
     "name": "stderr",
     "output_type": "stream",
     "text": [
      "C:\\Users\\Peter\\AppData\\Local\\Temp/ipykernel_2552/930102513.py:13: MatplotlibDeprecationWarning: The seaborn styles shipped by Matplotlib are deprecated since 3.6, as they no longer correspond to the styles shipped by seaborn. However, they will remain available as 'seaborn-v0_8-<style>'. Alternatively, directly use the seaborn API instead.\n",
      "  plt.style.use('seaborn-whitegrid')\n"
     ]
    }
   ],
   "source": [
    "\n",
    "\n",
    "# autoreload modules when code is run\n",
    "%load_ext autoreload\n",
    "%autoreload 2\n",
    "\n",
    "import numpy as np\n",
    "import scipy as sp\n",
    "from scipy import linalg\n",
    "from scipy import optimize\n",
    "import sympy as sm\n",
    "from types import SimpleNamespace\n",
    "%matplotlib inline\n",
    "import matplotlib.pyplot as plt\n",
    "plt.style.use('seaborn-whitegrid')\n",
    "from matplotlib import cm\n",
    "from mpl_toolkits.mplot3d import Axes3D\n",
    "import ipywidgets as widgets\n",
    "from scipy.optimize import Bounds, minimize\n",
    "\n",
    "# local modules\n",
    "import modelproject as py"
   ]
  },
  {
   "attachments": {},
   "cell_type": "markdown",
   "metadata": {},
   "source": [
    "\n",
    "## The Solow Model in Theory\n",
    "\n",
    "We have the variables:\n",
    "\n",
    "1. $K_t$ which is capital.\n",
    "2. $L_t$ is labor with a constant growth rate of n.\n",
    "3. $A_t$ is the labour augmenting technological progress, with a constant growth rate of g.\n",
    "4. $Y_t = K_t^\\alpha (A_tL_t)^{1-\\alpha}$ is GDP, given a Cobb-Douglas production function.\n",
    "\n",
    "Saving is a constant fraction of GDP, such that:\n",
    "$$S_t = sY_t$$\n",
    "Given this and assuming a constant rate of depreciation, capital accumulates according to:\n",
    "\n",
    "$$K_{t+1} = sY_t + (1-\\delta)K_t$$\n",
    "\n",
    "The parameters of the model fulfill:\n",
    "$$0<\\alpha<1$$\n",
    "$$0<s<1, 0<\\delta<1$$\n",
    "$$n\\geq0, g\\geq0$$\n",
    "\n",
    "We define output and capital per effective worker as $y_t\\equiv Y_t/(A_tL_t), k_t\\equiv K_t/(A_tL_t)$ respectively.\n",
    "\n",
    "The Solow model will be analyzed in terms of the variables expressed per effective worker, and the production function has constant return to scales.\n",
    "\n",
    "The production function per effective worker is thus given by:\n",
    "$$\\frac{Y_t}{A_tL_t}=\\frac{K_t^\\alpha L_t^{1-\\alpha}}{A_tL_t} \\Leftrightarrow \\tilde y_t = \\tilde k_t^\\alpha$$ \n",
    "\n",
    "\n",
    "From the capital accumulation equation, we divide both side by $A_{t+1}L_{t+1}$, and using that $A_{t+1}L_{t+1}=(1+n)(1+g)L_tA_t$ we get the transition equation for capital per effective worker:\n",
    "$$\\tilde k_{t+1} = \\frac{1}{(1+n)(1+g)} [s \\tilde y_t + (1-\\delta) \\tilde k_t]$$\n",
    "\n",
    "In order to analyze the model, i will start by finding analytical expressions for the steady state values, $\\tilde k^*,  \\tilde y^*$, using that $\\tilde k_{t+1} = \\tilde k_t = \\tilde k$ in steady state.\n",
    "\n",
    "## Analytical solution\n",
    "\n",
    "Finding an analytical expression for the steady states using sympy:\n",
    "  "
   ]
  },
  {
   "cell_type": "code",
   "execution_count": 2,
   "metadata": {},
   "outputs": [
    {
     "name": "stdout",
     "output_type": "stream",
     "text": [
      "The steady state  of capital is given by:\n"
     ]
    },
    {
     "data": {
      "text/latex": [
       "$\\displaystyle k^{*} = \\left(\\frac{\\delta + g n + g + n}{s}\\right)^{\\frac{1}{\\alpha - 1}}$"
      ],
      "text/plain": [
       "Eq(k^*, ((delta + g*n + g + n)/s)**(1/(alpha - 1)))"
      ]
     },
     "metadata": {},
     "output_type": "display_data"
    },
    {
     "name": "stdout",
     "output_type": "stream",
     "text": [
      "The steady state  of output is given by:\n"
     ]
    },
    {
     "data": {
      "text/latex": [
       "$\\displaystyle y^{*} = \\left(\\left(\\frac{\\delta + g n + g + n}{s}\\right)^{\\frac{1}{\\alpha - 1}}\\right)^{\\alpha}$"
      ],
      "text/plain": [
       "Eq(y^*, (((delta + g*n + g + n)/s)**(1/(alpha - 1)))**alpha)"
      ]
     },
     "metadata": {},
     "output_type": "display_data"
    },
    {
     "name": "stdout",
     "output_type": "stream",
     "text": [
      "The steady state value of capital using plausible parameter values is:\n"
     ]
    },
    {
     "data": {
      "text/plain": [
       "1.903831539231319"
      ]
     },
     "metadata": {},
     "output_type": "display_data"
    },
    {
     "name": "stdout",
     "output_type": "stream",
     "text": [
      "The steady state value of output using plausible parameter values is:\n",
      "1.2393943320395888\n"
     ]
    }
   ],
   "source": [
    "#Sympy symbols\n",
    "k, y, alpha, delta, s, g, n = sm.symbols('k, y, alpha, delta, s, g, n')\n",
    "\n",
    "#output per effective worker\n",
    "y = k**alpha\n",
    "\n",
    "#steady state:\n",
    "ss = sm.Eq(k, 1/((1+n)*(1+g))*(s*y+(1-delta)*k))\n",
    "\n",
    "#k steady state:\n",
    "kss =sm.solve(ss,k)[0]\n",
    "print('The steady state  of capital is given by:')\n",
    "display(sm.Eq(sm.symbols('k^*'),kss))\n",
    "\n",
    "#y steady state:\n",
    "yss=kss**alpha\n",
    "print('The steady state  of output is given by:')\n",
    "display(sm.Eq(sm.symbols('y^*'),yss))\n",
    "\n",
    "#creating function of steady state\n",
    "ss_func = sm.lambdify((s,g,n,delta,alpha),kss)\n",
    "\n",
    "# Evaluate function\n",
    "print('The steady state value of capital using plausible parameter values is:')\n",
    "display(ss_func(0.2,0.02,0.01,0.1,1/3))\n",
    "print('The steady state value of output using plausible parameter values is:')\n",
    "print(ss_func(0.2,0.02,0.01,0.1,1/3)**(1/3))"
   ]
  },
  {
   "attachments": {},
   "cell_type": "markdown",
   "metadata": {},
   "source": [
    "## Numerical solution\n",
    "\n",
    "In this section we use the class SolowModelClass and then use the interactive function to vizualie the transition diagram of effective capital per worker. The initial parameter values are the same as in the analytical solution, and we thus expect the result to be the same."
   ]
  },
  {
   "cell_type": "code",
   "execution_count": 3,
   "metadata": {},
   "outputs": [
    {
     "name": "stdout",
     "output_type": "stream",
     "text": [
      "kmin and kmax determines the starting points for transition of capital from below and above steady state respectively.\n",
      "Some of the parameter combinations may lead to high steady state values, and here kmax can be increased in order to show the full transition diagram\n"
     ]
    },
    {
     "data": {
      "application/vnd.jupyter.widget-view+json": {
       "model_id": "fc2212e492bd4a6badbb24800def002b",
       "version_major": 2,
       "version_minor": 0
      },
      "text/plain": [
       "interactive(children=(FloatSlider(value=0.001, description='$kmin$', max=0.5, min=0.0001), FloatSlider(value=4…"
      ]
     },
     "metadata": {},
     "output_type": "display_data"
    },
    {
     "data": {
      "text/plain": [
       "<function modelproject.interactive(kmin, kmax, s, g, n, alpha, delta)>"
      ]
     },
     "execution_count": 3,
     "metadata": {},
     "output_type": "execute_result"
    }
   ],
   "source": [
    "#Plotting the transition diagram for the Solow model\n",
    "print('kmin and kmax determines the starting points for transition of capital from below and above steady state respectively.\\nSome of the parameter combinations may lead to high steady state values, and here kmax can be increased in order to show the full transition diagram')\n",
    "#Interactive plot:\n",
    "widgets.interact(py.interactive,\n",
    "                \n",
    "                kmin=widgets.FloatSlider(\n",
    "                    description=\"$kmin$\", min=0.0001, max=0.5, step=0.1, value=0.001),\n",
    "                kmax=widgets.FloatSlider(\n",
    "                    description=\"$kmax$\", min=3, max=10000, step=1000, value=4),\n",
    "                s=widgets.FloatSlider(\n",
    "                    description=\"$s$\", min=0.1, max=0.5, step=0.1, value=0.2),\n",
    "                g=widgets.FloatSlider(\n",
    "                    description=\"$g$\", min=0.01, max=0.06, step=0.01, value=0.02),\n",
    "                n=widgets.FloatSlider(\n",
    "                    description=\"$n$\", min=0.01, max=0.06, step=0.01, value=0.01),\n",
    "                alpha=widgets.FloatSlider(\n",
    "                     description=\"$alpha$\", min=1/6, max=5/6, step=1/6, value=2/6),\n",
    "                delta=widgets.FloatSlider(\n",
    "                    description=\"$delta$\", min=0.05, max=0.4, step=0.05, value=0.1),\n",
    "               \n",
    ")\n"
   ]
  },
  {
   "attachments": {},
   "cell_type": "markdown",
   "metadata": {},
   "source": [
    "We see that capital will converge towards the steady state value. We also note that the steady state value is very sensitive to changing the parameter values. Below we plot the production function, which is in essence is output as a function of effective capital per worker."
   ]
  },
  {
   "cell_type": "code",
   "execution_count": 4,
   "metadata": {},
   "outputs": [
    {
     "data": {
      "application/vnd.jupyter.widget-view+json": {
       "model_id": "9867890fe3c94c5fb7e8951980040dc3",
       "version_major": 2,
       "version_minor": 0
      },
      "text/plain": [
       "interactive(children=(FloatSlider(value=0.2, description='$s$', max=0.5, min=0.1), FloatSlider(value=0.02, des…"
      ]
     },
     "metadata": {},
     "output_type": "display_data"
    },
    {
     "data": {
      "text/plain": [
       "<function modelproject.interactive_output(s, g, n, alpha, delta)>"
      ]
     },
     "execution_count": 4,
     "metadata": {},
     "output_type": "execute_result"
    }
   ],
   "source": [
    "#Interactive plot:\n",
    "widgets.interact(py.interactive_output,\n",
    "                s=widgets.FloatSlider(\n",
    "                    description=\"$s$\", min=0.1, max=0.5, step=0.1, value=0.2),\n",
    "                g=widgets.FloatSlider(\n",
    "                    description=\"$g$\", min=0.01, max=0.06, step=0.01, value=0.02),\n",
    "                n=widgets.FloatSlider(\n",
    "                    description=\"$n$\", min=0.01, max=0.06, step=0.01, value=0.01),\n",
    "                alpha=widgets.FloatSlider(\n",
    "                     description=\"$alpha$\", min=1/6, max=5/6, step=1/6, value=2/6),\n",
    "                delta=widgets.FloatSlider(\n",
    "                    description=\"$delta$\", min=0.05, max=0.3, step=0.05, value=0.1),\n",
    "               \n",
    ")"
   ]
  },
  {
   "attachments": {},
   "cell_type": "markdown",
   "metadata": {},
   "source": [
    "The production function will look messy depending on the parameter values. It looks rather realistic given the initial inputs, which are plausible."
   ]
  },
  {
   "attachments": {},
   "cell_type": "markdown",
   "metadata": {},
   "source": [
    "## Extension of the general Solow model with human capital\n",
    "\n",
    "In the following we will add human capital to the solow model. \n",
    "\n",
    "We thus have that \n",
    "\n",
    "\n",
    "\n",
    "\n",
    "We have the variables:\n",
    "\n",
    "1. $K_t$ which is capital.\n",
    "5. $H_t$ which is human capital.\n",
    "2. $L_t$ is labor with a constant growth rate of n.\n",
    "3. $A_t$ is the labour augmenting technological progress, with a constant growth rate of g.\n",
    "4. $Y_t = K_t^\\alpha H_t^\\phi (A_tL_t)^{1-\\alpha-\\phi}$ is GDP, given a Cobb-Douglas production function.\n",
    "\n",
    "\n",
    "Saving is a constant fraction of GDP, but we have that a fraction $s_h$ is spent on investment in human capital, and a fraction $s_k$ is spent on investment in physical capital.\n",
    "$$S_t = (s)Y_t=(s_h + s_k)Y_t$$\n",
    "\n",
    "The parameters of the model fulfill:\n",
    "$$0<\\alpha<1, 0 < \\phi < 1$$\n",
    "$$0<(s_h + s_k)<1,$$ \n",
    "$$0<\\delta<1$$\n",
    "$$n\\geq0, g\\geq0$$\n",
    "\n",
    "\n",
    "We define output, capital and human capital per effective worker as $y_t\\equiv Y_t/(A_tL_t), k_t\\equiv K_t/(A_tL_t), h_t=H_t/(A_tL_t)=$ respectively.\n",
    "\n",
    "The Solow model will be analyzed in terms of the variables expressed per effective worker, and the production function has constant return to scales.\n",
    "\n",
    "The production function per effective worker is thus given by:\n",
    "$$\\frac{Y_t}{A_tL_t}=\\frac{K_t^\\alpha H_t^\\phi L_t^{1-\\alpha-\\phi}}{A_tL_t} \\Leftrightarrow y_t =  k_t^\\alpha h_t^\\phi$$ \n",
    "\n",
    "\n",
    "Like before, we can write the transition equation for capital and human capital per effective wroker as:\n",
    "$$k_{t+1} = \\frac{1}{(1+n)(1+g)} [s_k y_t + (1-\\delta) k_t]$$\n",
    "$$h_{t+1} = \\frac{1}{(1+n)(1+g)} [s_h y_t + (1-\\delta) h_t]$$\n",
    "\n",
    "From these we can find the steady state values:\n",
    "\n",
    "$$k^* = (\\frac{s_k^{1-\\phi}s_h^{\\phi}}{n + g + \\delta + ng})^\\frac{1}{1-\\alpha-\\phi}$$\n",
    "$$h^* = (\\frac{s_k^{\\alpha}s_h^{1-\\alpha}}{n + g + \\delta + ng})^\\frac{1}{1-\\alpha-\\phi}$$\n",
    "\n",
    "We tried to find steady state values of capital and human capital using scipy, but were unable to do so. Below we will graph the convergence of capital and human capital to the steady values given an initial value, and different model parameters."
   ]
  },
  {
   "cell_type": "code",
   "execution_count": 5,
   "metadata": {},
   "outputs": [
    {
     "data": {
      "application/vnd.jupyter.widget-view+json": {
       "model_id": "c909ef8feb0c48cf8c4868efe1fbf0bc",
       "version_major": 2,
       "version_minor": 0
      },
      "text/plain": [
       "interactive(children=(FloatSlider(value=0.2, description='$s_h$', max=0.4, min=0.1), FloatSlider(value=0.1, de…"
      ]
     },
     "metadata": {},
     "output_type": "display_data"
    },
    {
     "data": {
      "text/plain": [
       "<function modelproject.interactive_solow_HC(s_h, s_k, g, n, alpha, delta, phi)>"
      ]
     },
     "execution_count": 5,
     "metadata": {},
     "output_type": "execute_result"
    }
   ],
   "source": [
    "#Interactive plot:\n",
    "widgets.interact(py.interactive_solow_HC,\n",
    "            \n",
    "                s_h=widgets.FloatSlider(\n",
    "                    description=\"$s_h$\", min=0.1, max=0.4, step=0.1, value=0.2),\n",
    "                s_k=widgets.FloatSlider(\n",
    "                    description=\"$s_k$\", min=0.1, max=0.4, step=0.1, value=0.1),\n",
    "                g=widgets.FloatSlider(\n",
    "                    description=\"$g$\", min=0.01, max=0.06, step=0.01, value=0.02),\n",
    "                n=widgets.FloatSlider(\n",
    "                    description=\"$n$\", min=0.01, max=0.06, step=0.01, value=0.01),\n",
    "                alpha=widgets.FloatSlider(\n",
    "                     description=\"$alpha$\", min=1/7, max=3/7, step=1/7, value=2/6),\n",
    "                delta=widgets.FloatSlider(\n",
    "                    description=\"$delta$\", min=0.05, max=0.3, step=0.05, value=0.1),\n",
    "                phi=widgets.FloatSlider(\n",
    "                    description=\"$phi$\", min=1/7, max=3/7, step=1/7, value=2/6)\n",
    "\n",
    ")"
   ]
  },
  {
   "attachments": {},
   "cell_type": "markdown",
   "metadata": {},
   "source": [
    "# Conclusion"
   ]
  },
  {
   "attachments": {},
   "cell_type": "markdown",
   "metadata": {},
   "source": [
    "We see that the time of convergence of both capital per effective worker and human capital per effective wroker to their steady state values is dependent on the parameter values. "
   ]
  }
 ],
 "metadata": {
  "kernelspec": {
   "display_name": "base",
   "language": "python",
   "name": "python3"
  },
  "language_info": {
   "codemirror_mode": {
    "name": "ipython",
    "version": 3
   },
   "file_extension": ".py",
   "mimetype": "text/x-python",
   "name": "python",
   "nbconvert_exporter": "python",
   "pygments_lexer": "ipython3",
   "version": "3.9.7"
  },
  "toc-autonumbering": true,
  "vscode": {
   "interpreter": {
    "hash": "47ef90cdf3004d3f859f1fb202523c65c07ba7c22eefd261b181f4744e2d0403"
   }
  }
 },
 "nbformat": 4,
 "nbformat_minor": 4
}
